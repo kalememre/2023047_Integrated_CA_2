{
 "cells": [
  {
   "cell_type": "code",
   "execution_count": 1,
   "id": "f9ab9666",
   "metadata": {},
   "outputs": [
    {
     "data": {
      "text/html": [
       "\n",
       "        <div>\n",
       "            <p><b>SparkContext</b></p>\n",
       "\n",
       "            <p><a href=\"http://172.16.12.129:4040\">Spark UI</a></p>\n",
       "\n",
       "            <dl>\n",
       "              <dt>Version</dt>\n",
       "                <dd><code>v3.2.4</code></dd>\n",
       "              <dt>Master</dt>\n",
       "                <dd><code>local[*]</code></dd>\n",
       "              <dt>AppName</dt>\n",
       "                <dd><code>PySparkShell</code></dd>\n",
       "            </dl>\n",
       "        </div>\n",
       "        "
      ],
      "text/plain": [
       "<SparkContext master=local[*] appName=PySparkShell>"
      ]
     },
     "execution_count": 1,
     "metadata": {},
     "output_type": "execute_result"
    }
   ],
   "source": [
    "sc"
   ]
  },
  {
   "cell_type": "code",
   "execution_count": 2,
   "id": "7dcc2cff",
   "metadata": {},
   "outputs": [],
   "source": [
    "from pyspark.sql import SparkSession\n",
    "\n",
    "spark = SparkSession \\\n",
    "    .builder \\\n",
    "    .appName(\"myApp\") \\\n",
    "    .getOrCreate()"
   ]
  },
  {
   "cell_type": "code",
   "execution_count": 33,
   "id": "1e19e9ff",
   "metadata": {},
   "outputs": [
    {
     "name": "stderr",
     "output_type": "stream",
     "text": [
      "                                                                                \r"
     ]
    }
   ],
   "source": [
    "# Load the ProjectTweets.csv into hadoop in the named folder 'user1'\n",
    "df = spark.read.csv('/user1/ProjectTweets.csv', header=False, inferSchema=True)"
   ]
  },
  {
   "cell_type": "code",
   "execution_count": 4,
   "id": "a288484b",
   "metadata": {
    "scrolled": false
   },
   "outputs": [
    {
     "name": "stdout",
     "output_type": "stream",
     "text": [
      "root\n",
      " |-- _c0: integer (nullable = true)\n",
      " |-- _c1: long (nullable = true)\n",
      " |-- _c2: string (nullable = true)\n",
      " |-- _c3: string (nullable = true)\n",
      " |-- _c4: string (nullable = true)\n",
      " |-- _c5: string (nullable = true)\n",
      "\n"
     ]
    }
   ],
   "source": [
    "df.printSchema()"
   ]
  },
  {
   "cell_type": "code",
   "execution_count": 5,
   "id": "288fe6be",
   "metadata": {},
   "outputs": [
    {
     "name": "stdout",
     "output_type": "stream",
     "text": [
      "+---+----------+--------------------+--------+---------------+--------------------+\n",
      "|_c0|       _c1|                 _c2|     _c3|            _c4|                 _c5|\n",
      "+---+----------+--------------------+--------+---------------+--------------------+\n",
      "|  0|1467810369|Mon Apr 06 22:19:...|NO_QUERY|_TheSpecialOne_|@switchfoot http:...|\n",
      "|  1|1467810672|Mon Apr 06 22:19:...|NO_QUERY|  scotthamilton|is upset that he ...|\n",
      "|  2|1467810917|Mon Apr 06 22:19:...|NO_QUERY|       mattycus|@Kenichan I dived...|\n",
      "|  3|1467811184|Mon Apr 06 22:19:...|NO_QUERY|        ElleCTF|my whole body fee...|\n",
      "|  4|1467811193|Mon Apr 06 22:19:...|NO_QUERY|         Karoli|@nationwideclass ...|\n",
      "+---+----------+--------------------+--------+---------------+--------------------+\n",
      "only showing top 5 rows\n",
      "\n"
     ]
    }
   ],
   "source": [
    "df.show(5)"
   ]
  },
  {
   "cell_type": "code",
   "execution_count": 34,
   "id": "6220778d",
   "metadata": {},
   "outputs": [],
   "source": [
    "# Drop the _c1 column unused\n",
    "df = df.drop('_c1')"
   ]
  },
  {
   "cell_type": "code",
   "execution_count": 35,
   "id": "5c1aae3b",
   "metadata": {},
   "outputs": [],
   "source": [
    "# Named the columns of df\n",
    "df = df.withColumnRenamed('_c0', 'id') \\\n",
    "       .withColumnRenamed('_c2', 'date') \\\n",
    "       .withColumnRenamed('_c3', 'flag') \\\n",
    "       .withColumnRenamed('_c4', 'user') \\\n",
    "       .withColumnRenamed('_c5', 'text')"
   ]
  },
  {
   "cell_type": "code",
   "execution_count": 8,
   "id": "83ac87bf",
   "metadata": {},
   "outputs": [
    {
     "name": "stdout",
     "output_type": "stream",
     "text": [
      "root\n",
      " |-- id: integer (nullable = true)\n",
      " |-- date: string (nullable = true)\n",
      " |-- flag: string (nullable = true)\n",
      " |-- user: string (nullable = true)\n",
      " |-- text: string (nullable = true)\n",
      "\n"
     ]
    }
   ],
   "source": [
    "# Display the structure of schema\n",
    "df.printSchema()"
   ]
  },
  {
   "cell_type": "code",
   "execution_count": 9,
   "id": "3cf4a9f8",
   "metadata": {},
   "outputs": [
    {
     "name": "stderr",
     "output_type": "stream",
     "text": [
      "                                                                                \r"
     ]
    }
   ],
   "source": [
    "df.write.format(\"mongodb\") \\\n",
    "    .option(\"uri\", \"mongodb://127.0.0.1:27001/\") \\\n",
    "    .option(\"database\", \"tweet_mongo\") \\\n",
    "    .option(\"collection\", \"tweet_collection\") \\\n",
    "    .mode(\"append\").save()"
   ]
  },
  {
   "cell_type": "code",
   "execution_count": 102,
   "id": "0c570af2",
   "metadata": {},
   "outputs": [],
   "source": [
    "# MySQL JDBC connection\n",
    "jdbc_url = \"jdbc:mysql://127.0.0.1:3306/tweet_mysql\"\n",
    "\n",
    "# MySQL user and pass\n",
    "properties = {\n",
    "    \"user\": \"root\",\n",
    "    \"password\": \"kalem\",\n",
    "    \"driver\": \"com.mysql.cj.jdbc.Driver\"\n",
    "}"
   ]
  },
  {
   "cell_type": "code",
   "execution_count": 11,
   "id": "bfd4eb07",
   "metadata": {},
   "outputs": [
    {
     "name": "stderr",
     "output_type": "stream",
     "text": [
      "                                                                                \r"
     ]
    }
   ],
   "source": [
    "df.write.jdbc(url=jdbc_url, table=\"tweets\", mode=\"overwrite\", properties=properties)"
   ]
  },
  {
   "cell_type": "code",
   "execution_count": 12,
   "id": "2b7219be",
   "metadata": {},
   "outputs": [
    {
     "name": "stderr",
     "output_type": "stream",
     "text": [
      "\r",
      "[Stage 6:>                                                          (0 + 2) / 2]\r"
     ]
    },
    {
     "name": "stdout",
     "output_type": "stream",
     "text": [
      "Shape of dataset: (1600000, 5)\n"
     ]
    },
    {
     "name": "stderr",
     "output_type": "stream",
     "text": [
      "\r",
      "                                                                                \r"
     ]
    }
   ],
   "source": [
    "# print of data shape\n",
    "print('Shape of dataset:',(df.count(),len(df.columns)))"
   ]
  },
  {
   "cell_type": "code",
   "execution_count": 13,
   "id": "fd643d08",
   "metadata": {
    "scrolled": true
   },
   "outputs": [
    {
     "name": "stderr",
     "output_type": "stream",
     "text": [
      "[Stage 9:=============================>                             (1 + 1) / 2]\r"
     ]
    },
    {
     "name": "stdout",
     "output_type": "stream",
     "text": [
      "+-------+------------------+--------------------+--------+-------------------+--------------------+\n",
      "|summary|                id|                date|    flag|               user|                text|\n",
      "+-------+------------------+--------------------+--------+-------------------+--------------------+\n",
      "|  count|           1600000|             1600000| 1600000|            1600000|             1600000|\n",
      "|   mean|          799999.5|                null|    null|4.325887521835714E9|                null|\n",
      "| stddev|461880.35968924535|                null|    null|5.16273321845489E10|                null|\n",
      "|    min|                 0|Fri Apr 17 20:30:...|NO_QUERY|       000catnap000|                 ...|\n",
      "|    max|           1599999|Wed May 27 07:27:...|NO_QUERY|         zzzzeus111|ï¿½ï¿½ï¿½ï¿½ï¿½ß§...|\n",
      "+-------+------------------+--------------------+--------+-------------------+--------------------+\n",
      "\n"
     ]
    },
    {
     "name": "stderr",
     "output_type": "stream",
     "text": [
      "\r",
      "                                                                                \r"
     ]
    }
   ],
   "source": [
    "# Display the summary statistics of the data\n",
    "df.describe().show()"
   ]
  },
  {
   "cell_type": "code",
   "execution_count": 39,
   "id": "ba25b25c",
   "metadata": {
    "scrolled": false
   },
   "outputs": [
    {
     "name": "stdout",
     "output_type": "stream",
     "text": [
      "/usr/bin/java  -classpath /home/hduser/ycsb-0.17.0/conf:/home/hduser/ycsb-0.17.0/lib/HdrHistogram-2.1.4.jar:/home/hduser/ycsb-0.17.0/lib/core-0.17.0.jar:/home/hduser/ycsb-0.17.0/lib/htrace-core4-4.1.0-incubating.jar:/home/hduser/ycsb-0.17.0/lib/jackson-core-asl-1.9.4.jar:/home/hduser/ycsb-0.17.0/lib/jackson-mapper-asl-1.9.4.jar:/home/hduser/ycsb-0.17.0/jdbc-binding/conf:/home/hduser/ycsb-0.17.0/jdbc-binding/lib/commons-collections-3.2.1.jar:/home/hduser/ycsb-0.17.0/jdbc-binding/lib/commons-lang-2.4.jar:/home/hduser/ycsb-0.17.0/jdbc-binding/lib/commons-pool-1.5.4.jar:/home/hduser/ycsb-0.17.0/jdbc-binding/lib/geronimo-jms_1.1_spec-1.1.1.jar:/home/hduser/ycsb-0.17.0/jdbc-binding/lib/geronimo-jta_1.1_spec-1.1.1.jar:/home/hduser/ycsb-0.17.0/jdbc-binding/lib/jdbc-binding-0.17.0.jar:/home/hduser/ycsb-0.17.0/jdbc-binding/lib/mysql-connector-j-8.0.33.jar:/home/hduser/ycsb-0.17.0/jdbc-binding/lib/openjpa-jdbc-2.1.1.jar:/home/hduser/ycsb-0.17.0/jdbc-binding/lib/openjpa-kernel-2.1.1.jar:/home/hduser/ycsb-0.17.0/jdbc-binding/lib/openjpa-lib-2.1.1.jar:/home/hduser/ycsb-0.17.0/jdbc-binding/lib/serp-1.13.1.jar site.ycsb.Client -t -db site.ycsb.db.JdbcDBClient -P /home/hduser/ycsb-0.17.0/workloads/workloada -p db.url=jdbc:mysql://localhost:3306/tweet_mysql -p db.user=root -p db.passwd=kalem -p db.driver=com.mysql.cj.jdbc.Driver\n",
      "Command line: -t -db site.ycsb.db.JdbcDBClient -P /home/hduser/ycsb-0.17.0/workloads/workloada -p db.url=jdbc:mysql://localhost:3306/tweet_mysql -p db.user=root -p db.passwd=kalem -p db.driver=com.mysql.cj.jdbc.Driver\n",
      "YCSB Client 0.17.0\n",
      "\n",
      "Loading workload...\n",
      "Starting test.\n",
      "Adding shard node URL: jdbc:mysql://localhost:3306/tweet_mysql\n",
      "Using shards: 1, batchSize:-1, fetchSize: -1\n",
      "DBWrapper: report latency for each error is false and specific error codes to track for latency are: []\n",
      "[OVERALL], RunTime(ms), 709\n",
      "[OVERALL], Throughput(ops/sec), 1410.4372355430182\n",
      "[TOTAL_GCS_PS_Scavenge], Count, 2\n",
      "[TOTAL_GC_TIME_PS_Scavenge], Time(ms), 6\n",
      "[TOTAL_GC_TIME_%_PS_Scavenge], Time(%), 0.846262341325811\n",
      "[TOTAL_GCS_PS_MarkSweep], Count, 0\n",
      "[TOTAL_GC_TIME_PS_MarkSweep], Time(ms), 0\n",
      "[TOTAL_GC_TIME_%_PS_MarkSweep], Time(%), 0.0\n",
      "[TOTAL_GCs], Count, 2\n",
      "[TOTAL_GC_TIME], Time(ms), 6\n",
      "[TOTAL_GC_TIME_%], Time(%), 0.846262341325811\n",
      "[READ], Operations, 0\n",
      "[READ], AverageLatency(us), NaN\n",
      "[READ], MinLatency(us), 9223372036854775807\n",
      "[READ], MaxLatency(us), 0\n",
      "[READ], 95thPercentileLatency(us), 0\n",
      "[READ], 99thPercentileLatency(us), 0\n",
      "[READ], Return=NOT_FOUND, 534\n",
      "[UPDATE-FAILED], Operations, 466\n",
      "[UPDATE-FAILED], AverageLatency(us), 171.47210300429185\n",
      "[UPDATE-FAILED], MinLatency(us), 51\n",
      "[UPDATE-FAILED], MaxLatency(us), 5011\n",
      "[UPDATE-FAILED], 95thPercentileLatency(us), 363\n",
      "[UPDATE-FAILED], 99thPercentileLatency(us), 2044\n",
      "[CLEANUP], Operations, 1\n",
      "[CLEANUP], AverageLatency(us), 1205.0\n",
      "[CLEANUP], MinLatency(us), 1205\n",
      "[CLEANUP], MaxLatency(us), 1205\n",
      "[CLEANUP], 95thPercentileLatency(us), 1205\n",
      "[CLEANUP], 99thPercentileLatency(us), 1205\n",
      "[READ-FAILED], Operations, 534\n",
      "[READ-FAILED], AverageLatency(us), 276.7041198501873\n",
      "[READ-FAILED], MinLatency(us), 64\n",
      "[READ-FAILED], MaxLatency(us), 29743\n",
      "[READ-FAILED], 95thPercentileLatency(us), 523\n",
      "[READ-FAILED], 99thPercentileLatency(us), 2667\n",
      "[UPDATE], Operations, 0\n",
      "[UPDATE], AverageLatency(us), NaN\n",
      "[UPDATE], MinLatency(us), 9223372036854775807\n",
      "[UPDATE], MaxLatency(us), 0\n",
      "[UPDATE], 95thPercentileLatency(us), 0\n",
      "[UPDATE], 99thPercentileLatency(us), 0\n",
      "[UPDATE], Return=UNEXPECTED_STATE, 466\n"
     ]
    }
   ],
   "source": [
    "# YCSB test for MYSQL\n",
    "!/home/hduser/ycsb-0.17.0/bin/ycsb.sh run jdbc -P /home/hduser/ycsb-0.17.0/workloads/workloada -p db.url=jdbc:mysql://localhost:3306/tweet_mysql -p db.user=root -p db.passwd=kalem -p db.driver=com.mysql.cj.jdbc.Driver"
   ]
  },
  {
   "cell_type": "code",
   "execution_count": 42,
   "id": "beea3a35",
   "metadata": {},
   "outputs": [
    {
     "name": "stdout",
     "output_type": "stream",
     "text": [
      "/usr/bin/java  -classpath /home/hduser/ycsb-0.17.0/conf:/home/hduser/ycsb-0.17.0/lib/HdrHistogram-2.1.4.jar:/home/hduser/ycsb-0.17.0/lib/core-0.17.0.jar:/home/hduser/ycsb-0.17.0/lib/htrace-core4-4.1.0-incubating.jar:/home/hduser/ycsb-0.17.0/lib/jackson-core-asl-1.9.4.jar:/home/hduser/ycsb-0.17.0/lib/jackson-mapper-asl-1.9.4.jar:/home/hduser/ycsb-0.17.0/mongodb-binding/lib/logback-classic-1.1.2.jar:/home/hduser/ycsb-0.17.0/mongodb-binding/lib/logback-core-1.1.2.jar:/home/hduser/ycsb-0.17.0/mongodb-binding/lib/mongo-java-driver-3.8.0.jar:/home/hduser/ycsb-0.17.0/mongodb-binding/lib/mongodb-async-driver-2.0.1.jar:/home/hduser/ycsb-0.17.0/mongodb-binding/lib/mongodb-binding-0.17.0.jar:/home/hduser/ycsb-0.17.0/mongodb-binding/lib/slf4j-api-1.7.25.jar:/home/hduser/ycsb-0.17.0/mongodb-binding/lib/snappy-java-1.1.7.1.jar site.ycsb.Client -t -db site.ycsb.db.MongoDbClient -P /home/hduser/ycsb-0.17.0/workloads/workloada -p mongodb.url=mongodb://localhost:27017 -p mongodb.database=tweet_mongo\n",
      "Command line: -t -db site.ycsb.db.MongoDbClient -P /home/hduser/ycsb-0.17.0/workloads/workloada -p mongodb.url=mongodb://localhost:27017 -p mongodb.database=tweet_mongo\n",
      "YCSB Client 0.17.0\n",
      "\n",
      "Loading workload...\n",
      "Starting test.\n",
      "mongo client connection created with mongodb://localhost:27017\n",
      "DBWrapper: report latency for each error is false and specific error codes to track for latency are: []\n",
      "Nothing updated for key user6862728708791239180\n",
      "Nothing updated for key user890091283141445768\n",
      "Nothing updated for key user5802728716254195226\n",
      "Nothing updated for key user4187652825177487260\n",
      "Nothing updated for key user5344789772525948776\n",
      "Nothing updated for key user4168006491293977523\n",
      "Nothing updated for key user8878800862358234521\n",
      "Nothing updated for key user8270933710505888440\n",
      "Nothing updated for key user2181854641455466294\n",
      "Nothing updated for key user7350806271465811625\n",
      "Nothing updated for key user4158634127255442161\n",
      "Nothing updated for key user5917490478118402616\n",
      "Nothing updated for key user7109452226432457808\n",
      "Nothing updated for key user8979722393382480751\n",
      "Nothing updated for key user5923296581161951193\n",
      "Nothing updated for key user5329829620661706720\n",
      "Nothing updated for key user7325695479833051876\n",
      "Nothing updated for key user5581239320322193029\n",
      "Nothing updated for key user3464463950948793341\n",
      "Nothing updated for key user2162208307571956557\n",
      "Nothing updated for key user1829523410770733755\n",
      "Nothing updated for key user1573987489603120213\n",
      "Nothing updated for key user3826167545672061242\n",
      "Nothing updated for key user9115250410154478774\n",
      "Nothing updated for key user3820921403140653113\n",
      "Nothing updated for key user5937696772514052801\n",
      "Nothing updated for key user1473065958578873983\n",
      "Nothing updated for key user5817347222824138717\n",
      "Nothing updated for key user1573987489603120213\n",
      "Nothing updated for key user8270933710505888440\n",
      "Nothing updated for key user8738586663566968817\n",
      "Nothing updated for key user5912804296099134935\n",
      "Nothing updated for key user190674964303388819\n",
      "Nothing updated for key user8522343410166374749\n",
      "Nothing updated for key user8999368727265990488\n",
      "Nothing updated for key user3816016905903543549\n",
      "Nothing updated for key user3353610095373871301\n",
      "Nothing updated for key user1573987489603120213\n",
      "Nothing updated for key user7943494956236073767\n",
      "Nothing updated for key user4872108992151302153\n",
      "Nothing updated for key user7340655631697293932\n",
      "Nothing updated for key user990234538435709667\n",
      "Nothing updated for key user880158958590769958\n",
      "Nothing updated for key user1578455356404546011\n",
      "Nothing updated for key user2272843847929036714\n",
      "Nothing updated for key user406918217703982887\n",
      "Nothing updated for key user980520529102875740\n",
      "Nothing updated for key user5811541119780590140\n",
      "Nothing updated for key user3715313690097139202\n",
      "Nothing updated for key user7210373757456704038\n",
      "Nothing updated for key user6887621185206157046\n",
      "Nothing updated for key user6048550628088974841\n",
      "Nothing updated for key user402232035684715206\n",
      "Nothing updated for key user1211723934367711864\n",
      "Nothing updated for key user5817347222824138717\n",
      "Nothing updated for key user8411707869809294592\n",
      "Nothing updated for key user2041640442664200590\n",
      "Nothing updated for key user9004054909285258169\n",
      "Nothing updated for key user6043304485557566712\n",
      "Nothing updated for key user2186540823474733975\n",
      "Nothing updated for key user512867576041795363\n",
      "Nothing updated for key user9100290258290236718\n",
      "Nothing updated for key user2745182983009384772\n",
      "Nothing updated for key user2649725909734388554\n",
      "Nothing updated for key user6284781860667377211\n",
      "Nothing updated for key user8170012179481642210\n",
      "Nothing updated for key user6987982755718262828\n",
      "Nothing updated for key user2996592682669871081\n",
      "Nothing updated for key user70107099395632852\n",
      "Nothing updated for key user6385703391691623441\n",
      "Nothing updated for key user402232035684715206\n",
      "Nothing updated for key user1458105806714631927\n",
      "Nothing updated for key user2649507594516546671\n",
      "Nothing updated for key user181302600264853457\n",
      "Nothing updated for key user2543558236178734195\n",
      "Nothing updated for key user6882935003186889365\n",
      "Nothing updated for key user1805750855380096785\n",
      "Nothing updated for key user5923296581161951193\n",
      "Nothing updated for key user4626287080316522538\n",
      "Nothing updated for key user2750429125540792901\n",
      "Nothing updated for key user6163872350465322679\n",
      "Nothing updated for key user1834769553302141884\n",
      "Nothing updated for key user6873002678636213555\n",
      "Nothing updated for key user2056818909746284529\n",
      "Nothing updated for key user2648947634004406223\n",
      "Nothing updated for key user7219746121495239400\n",
      "Nothing updated for key user5223880262323894244\n",
      "Nothing updated for key user7697673044401294152\n",
      "Nothing updated for key user8526469631673501982\n",
      "Nothing updated for key user2422990371270978228\n",
      "Nothing updated for key user6400663543555865497\n",
      "Nothing updated for key user4278642031651057680\n",
      "Nothing updated for key user5590611684360728391\n",
      "Nothing updated for key user5817347222824138717\n",
      "Nothing updated for key user8044198172042478114\n",
      "Nothing updated for key user3368228601943814792\n",
      "Nothing updated for key user6400663543555865497\n",
      "Nothing updated for key user2191786966006142104\n",
      "Nothing updated for key user5127644913318915695\n",
      "Nothing updated for key user8029797980690376506\n",
      "Nothing updated for key user1699583181824442426\n",
      "Nothing updated for key user5817347222824138717\n",
      "Nothing updated for key user4862176667600626343\n",
      "Nothing updated for key user4052466453699787802\n",
      "Nothing updated for key user5098066254884730148\n",
      "Nothing updated for key user2162208307571956557\n",
      "Nothing updated for key user2176826814141900048\n",
      "Nothing updated for key user6395075755730158803\n",
      "Nothing updated for key user6149253843895379188\n",
      "Nothing updated for key user6998256725563237203\n",
      "Nothing updated for key user4153387984724034032\n",
      "Nothing updated for key user1709515506375118236\n",
      "Nothing updated for key user985766671634283869\n",
      "Nothing updated for key user5797482573722787097\n",
      "Nothing updated for key user6405349725575133178\n",
      "Nothing updated for key user2755115307560060582\n",
      "Nothing updated for key user6979170352191867914\n",
      "Nothing updated for key user2880929314999224678\n",
      "Nothing updated for key user3121846729596894729\n",
      "Nothing updated for key user1573987489603120213\n",
      "Nothing updated for key user885063455827879522\n",
      "Nothing updated for key user884285180097897191\n",
      "Nothing updated for key user784141924803633292\n",
      "Nothing updated for key user5912804296099134935\n",
      "Nothing updated for key user7330941622364460005\n",
      "Nothing updated for key user5947069136552588163\n",
      "Nothing updated for key user2880929314999224678\n",
      "Nothing updated for key user1573987489603120213\n",
      "Nothing updated for key user2292708497030388334\n",
      "Nothing updated for key user5715865731287752039\n",
      "Nothing updated for key user1573987489603120213\n",
      "Nothing updated for key user4520337721978710062\n",
      "Nothing updated for key user7692645217087727906\n",
      "Nothing updated for key user7466127993842159463\n",
      "Nothing updated for key user2996251037375572516\n",
      "Nothing updated for key user658327917364469196\n",
      "Nothing updated for key user6521231408463621464\n",
      "Nothing updated for key user8054690457105294372\n",
      "Nothing updated for key user2880710999781382795\n",
      "Nothing updated for key user1573987489603120213\n",
      "Nothing updated for key user7325695479833051876\n",
      "Nothing updated for key user658327917364469196\n",
      "Nothing updated for key user6299400367237320702\n",
      "Nothing updated for key user4645591768905733710\n",
      "Nothing updated for key user5827061232156972644\n",
      "Nothing updated for key user7692426901869886023\n",
      "Nothing updated for key user2648947634004406223\n",
      "Nothing updated for key user1573987489603120213\n",
      "Nothing updated for key user6400321898261566932\n",
      "Nothing updated for key user784141924803633292\n",
      "Nothing updated for key user5933010590494785120\n",
      "Nothing updated for key user5817347222824138717\n",
      "Nothing updated for key user3594185864677242787\n",
      "Nothing updated for key user1931004902307120433\n",
      "Nothing updated for key user5821815089625564515\n",
      "Nothing updated for key user7325695479833051876\n",
      "Nothing updated for key user6062950819441076449\n",
      "Nothing updated for key user5335075763193114849\n",
      "Nothing updated for key user6878248821167621684\n",
      "Nothing updated for key user8743832806098376946\n",
      "Nothing updated for key user2745182983009384772\n",
      "Nothing updated for key user6063510779953216897\n",
      "Nothing updated for key user3705381365546463392\n",
      "Nothing updated for key user5001830905879751599\n",
      "Nothing updated for key user1950651236190630170\n",
      "Nothing updated for key user663014099383736877\n",
      "Nothing updated for key user4404797684384520341\n",
      "Nothing updated for key user5691314900167132738\n",
      "Nothing updated for key user4736362660161462247\n",
      "Nothing updated for key user5474730001472240105\n",
      "Nothing updated for key user4288574356201733490\n",
      "Nothing updated for key user296842637859043178\n",
      "Nothing updated for key user1352498093671118016\n",
      "Nothing updated for key user784141924803633292\n",
      "Nothing updated for key user3449285483866709402\n",
      "Nothing updated for key user784141924803633292\n",
      "Nothing updated for key user774209600252957482\n",
      "Nothing updated for key user8622704980678480531\n",
      "Nothing updated for key user5918050438630543064\n",
      "Nothing updated for key user3575099491305873498\n",
      "Nothing updated for key user4635659444355057900\n",
      "Nothing updated for key user1573987489603120213\n",
      "Nothing updated for key user1347251951139709887\n",
      "Nothing updated for key user2181854641455466294\n",
      "Nothing updated for key user6862728708791239180\n",
      "Nothing updated for key user6767053320298401079\n",
      "Nothing updated for key user6525917590482889145\n",
      "Nothing updated for key user1015345330068469416\n",
      "Nothing updated for key user4153387984724034032\n",
      "Nothing updated for key user7832859415878993610\n",
      "Nothing updated for key user8421080233847829954\n",
      "Nothing updated for key user894777465160713449\n",
      "Nothing updated for key user7567391170160704258\n",
      "Nothing updated for key user3338649943509629245\n",
      "Nothing updated for key user7234706273359481456\n",
      "Nothing updated for key user6862728708791239180\n",
      "Nothing updated for key user8415834091316421825\n"
     ]
    },
    {
     "name": "stdout",
     "output_type": "stream",
     "text": [
      "Nothing updated for key user6184078644860972864\n",
      "Nothing updated for key user2996251037375572516\n",
      "Nothing updated for key user7460881851310751334\n",
      "Nothing updated for key user4640687271668624146\n",
      "Nothing updated for key user4152828024211893584\n",
      "Nothing updated for key user1573987489603120213\n",
      "Nothing updated for key user4626287080316522538\n",
      "Nothing updated for key user176616418245585776\n",
      "Nothing updated for key user2538312093647326066\n",
      "Nothing updated for key user7345341813716561613\n",
      "Nothing updated for key user6290028003198785340\n",
      "Nothing updated for key user8502137115770724564\n",
      "Nothing updated for key user5339761945212382530\n",
      "Nothing updated for key user6400663543555865497\n",
      "Nothing updated for key user4987430714527649991\n",
      "Nothing updated for key user4278642031651057680\n",
      "Nothing updated for key user3107446538244793121\n",
      "Nothing updated for key user7123510772490260851\n",
      "Nothing updated for key user6762367138279133398\n",
      "Nothing updated for key user195921106834796948\n",
      "Nothing updated for key user5118272549280380333\n",
      "Nothing updated for key user643367765500227140\n",
      "Nothing updated for key user9206239616628049194\n",
      "Nothing updated for key user5912804296099134935\n",
      "Nothing updated for key user4756568954557112432\n",
      "Nothing updated for key user1578455356404546011\n",
      "Nothing updated for key user5912804296099134935\n",
      "Nothing updated for key user6505711296087238960\n",
      "Nothing updated for key user8733340521035560688\n",
      "Nothing updated for key user6405568040792975061\n",
      "Nothing updated for key user4042192483854813427\n",
      "Nothing updated for key user5012323190942567857\n",
      "Nothing updated for key user4303534508065975546\n",
      "Nothing updated for key user6987982755718262828\n",
      "Nothing updated for key user1704487679061551990\n",
      "Nothing updated for key user5585925502341460710\n",
      "Nothing updated for key user6873002678636213555\n",
      "Nothing updated for key user8637323487248424022\n",
      "Nothing updated for key user6284781860667377211\n",
      "Nothing updated for key user2051354451997034517\n",
      "Nothing updated for key user9115250410154478774\n",
      "Nothing updated for key user8647597457093398397\n",
      "Nothing updated for key user4530051731311543989\n",
      "Nothing updated for key user8295266226408665858\n",
      "Nothing updated for key user7325695479833051876\n",
      "Nothing updated for key user8633197265741296789\n",
      "Nothing updated for key user2861064665897873058\n",
      "Nothing updated for key user7586477543532073547\n",
      "Nothing updated for key user1573987489603120213\n",
      "Nothing updated for key user5827061232156972644\n",
      "Nothing updated for key user4153387984724034032\n",
      "Nothing updated for key user1342784084338284089\n",
      "Nothing updated for key user6987982755718262828\n",
      "Nothing updated for key user2061286776547710327\n",
      "Nothing updated for key user2649725909734388554\n",
      "Nothing updated for key user5233812586874570054\n",
      "Nothing updated for key user3705381365546463392\n",
      "Nothing updated for key user3362982459412406663\n",
      "Nothing updated for key user2645039727715120873\n",
      "Nothing updated for key user5696779357916382750\n",
      "Nothing updated for key user190674964303388819\n",
      "Nothing updated for key user3594185864677242787\n",
      "Nothing updated for key user4997922999590466249\n",
      "Nothing updated for key user1835329513814282332\n",
      "Nothing updated for key user5585925502341460710\n",
      "Nothing updated for key user4862176667600626343\n",
      "Nothing updated for key user4153387984724034032\n",
      "Nothing updated for key user4294162144027440184\n",
      "Nothing updated for key user1840015695833550013\n",
      "Nothing updated for key user7577105179493538185\n",
      "Nothing updated for key user7817899264014751554\n",
      "Nothing updated for key user6752434813728457588\n",
      "Nothing updated for key user8984408575401748432\n",
      "Nothing updated for key user4972812207957706500\n",
      "Nothing updated for key user1005413005517793606\n",
      "Nothing updated for key user5103872357928278725\n",
      "Nothing updated for key user2171580671610491919\n",
      "Nothing updated for key user4997922999590466249\n",
      "Nothing updated for key user6873002678636213555\n",
      "Nothing updated for key user1236834726000471613\n",
      "Nothing updated for key user8868868537807558711\n",
      "Nothing updated for key user7475842003174993390\n",
      "Nothing updated for key user3362982459412406663\n",
      "Nothing updated for key user8637323487248424022\n",
      "Nothing updated for key user74793281414900533\n",
      "Nothing updated for key user7711731590459097195\n",
      "Nothing updated for key user991012814165691998\n",
      "Nothing updated for key user6641457628077078866\n",
      "Nothing updated for key user3575099491305873498\n",
      "Nothing updated for key user774209600252957482\n",
      "Nothing updated for key user4057370950936897366\n",
      "Nothing updated for key user1829523410770733755\n",
      "Nothing updated for key user3599991967720791364\n",
      "Nothing updated for key user658327917364469196\n",
      "Nothing updated for key user2413276361938144301\n",
      "Nothing updated for key user35282298430039176\n",
      "Nothing updated for key user8054690457105294372\n",
      "Nothing updated for key user4153387984724034032\n",
      "Nothing updated for key user986326632146424317\n",
      "Nothing updated for key user4775873643146323604\n",
      "Nothing updated for key user6505711296087238960\n",
      "Nothing updated for key user4153387984724034032\n",
      "Nothing updated for key user8421080233847829954\n",
      "Nothing updated for key user5108340224729704523\n",
      "Nothing updated for key user2408371864701034737\n",
      "Nothing updated for key user398105814177587973\n",
      "Nothing updated for key user6862728708791239180\n",
      "Nothing updated for key user8415834091316421825\n",
      "Nothing updated for key user4153387984724034032\n",
      "Nothing updated for key user6752093168434159023\n",
      "Nothing updated for key user2278089990460444843\n",
      "Nothing updated for key user7109452226432457808\n",
      "Nothing updated for key user4871890676933460270\n",
      "Nothing updated for key user2181854641455466294\n",
      "Nothing updated for key user3232700585171816769\n",
      "Nothing updated for key user397545853665447525\n",
      "Nothing updated for key user1573987489603120213\n",
      "Nothing updated for key user4057370950936897366\n",
      "Nothing updated for key user4153387984724034032\n",
      "Nothing updated for key user894777465160713449\n",
      "Nothing updated for key user7461223496605049899\n",
      "Nothing updated for key user518113718573203492\n",
      "Nothing updated for key user6993788858761811405\n",
      "Nothing updated for key user5811541119780590140\n",
      "Nothing updated for key user1573987489603120213\n",
      "Nothing updated for key user1573987489603120213\n",
      "Nothing updated for key user4163320309274709842\n",
      "Nothing updated for key user3594185864677242787\n",
      "Nothing updated for key user5817347222824138717\n",
      "Nothing updated for key user407478178216123335\n",
      "Nothing updated for key user1693995393998735732\n",
      "Nothing updated for key user4153387984724034032\n",
      "Nothing updated for key user1372362742772469636\n",
      "Nothing updated for key user5364094461115159948\n",
      "Nothing updated for key user3353268450079572736\n",
      "Nothing updated for key user3584813500638707425\n",
      "Nothing updated for key user5233594271656728171\n",
      "Nothing updated for key user2996592682669871081\n",
      "Nothing updated for key user6415282050125808988\n",
      "Nothing updated for key user6169460138291029373\n",
      "Nothing updated for key user4414170048423055703\n",
      "Nothing updated for key user4153387984724034032\n",
      "Nothing updated for key user1573987489603120213\n",
      "Nothing updated for key user3579785673325141179\n",
      "Nothing updated for key user5817128907606296834\n",
      "Nothing updated for key user7340655631697293932\n",
      "Nothing updated for key user3700135223015055263\n",
      "Nothing updated for key user5711179549268484358\n",
      "Nothing updated for key user2996592682669871081\n",
      "Nothing updated for key user1005413005517793606\n",
      "Nothing updated for key user3810989078589977303\n",
      "Nothing updated for key user2403344037387468491\n",
      "Nothing updated for key user7827613273347585481\n",
      "Nothing updated for key user7803280757444808063\n",
      "Nothing updated for key user643709410794525705\n",
      "Nothing updated for key user7943494956236073767\n",
      "Nothing updated for key user3358296277393138982\n",
      "Nothing updated for key user6636771446057811185\n",
      "Nothing updated for key user1704487679061551990\n",
      "Nothing updated for key user4650619596219299956\n",
      "Nothing updated for key user5586143817559302593\n",
      "Nothing updated for key user8150365845598132473\n",
      "Nothing updated for key user7807966939464075744\n",
      "Nothing updated for key user7234706273359481456\n",
      "Nothing updated for key user3951203277381243007\n",
      "Nothing updated for key user7340313986402995367\n",
      "Nothing updated for key user3097514213694117311\n",
      "Nothing updated for key user6756779350453426704\n",
      "Nothing updated for key user2543558236178734195\n",
      "Nothing updated for key user6521231408463621464\n",
      "Nothing updated for key user5561033025926542844\n",
      "Nothing updated for key user4736362660161462247\n",
      "Nothing updated for key user6867974851322647309\n",
      "Nothing updated for key user70107099395632852\n",
      "Nothing updated for key user7938808774216806086\n",
      "Nothing updated for key user1573987489603120213\n",
      "Nothing updated for key user2413058046720302418\n",
      "Nothing updated for key user8044198172042478114\n",
      "Nothing updated for key user4153387984724034032\n",
      "Nothing updated for key user658327917364469196\n",
      "Nothing updated for key user55146947531390796\n",
      "Nothing updated for key user9115468725372320657\n",
      "Nothing updated for key user1573987489603120213\n",
      "Nothing updated for key user2519225720275956777\n",
      "Nothing updated for key user4992458541841216237\n",
      "Nothing updated for key user2060726816035569879\n",
      "Nothing updated for key user2061286776547710327\n",
      "Nothing updated for key user9114690449642338326\n",
      "Nothing updated for key user7817899264014751554\n",
      "Nothing updated for key user2543558236178734195\n",
      "Nothing updated for key user2755675268072201030\n",
      "Nothing updated for key user2880929314999224678\n",
      "Nothing updated for key user1015345330068469416\n",
      "Nothing updated for key user8401215584746478334\n",
      "Nothing updated for key user5600544008911404201\n",
      "Nothing updated for key user3946517095361975326\n",
      "Nothing updated for key user4978058350489114629\n",
      "Nothing updated for key user3242974555016791144\n",
      "Nothing updated for key user8044976447772460445\n",
      "Nothing updated for key user3956449419912651136\n",
      "Nothing updated for key user8989654717933156561\n",
      "Nothing updated for key user1820151046732198393\n",
      "Nothing updated for key user1573987489603120213\n",
      "Nothing updated for key user8521783449654234301\n",
      "Nothing updated for key user3710067547565731073\n",
      "Nothing updated for key user6756779350453426704\n",
      "Nothing updated for key user8421080233847829954\n",
      "Nothing updated for key user4153387984724034032\n",
      "Nothing updated for key user2533625911628058385\n",
      "Nothing updated for key user5933010590494785120\n",
      "Nothing updated for key user9100071943072394835\n",
      "Nothing updated for key user402232035684715206\n",
      "Nothing updated for key user6862728708791239180\n",
      "Nothing updated for key user4153387984724034032\n",
      "Nothing updated for key user5233812586874570054\n",
      "Nothing updated for key user890091283141445768\n",
      "Nothing updated for key user2302422506363222261\n",
      "Nothing updated for key user8049662629791728126\n",
      "Nothing updated for key user2051012806702735952\n",
      "Nothing updated for key user2519225720275956777\n",
      "Nothing updated for key user7460663536092909451\n",
      "Nothing updated for key user3338649943509629245\n",
      "Nothing updated for key user2870996990448548868\n",
      "Nothing updated for key user7717537693502645772\n",
      "Nothing updated for key user1935472769108546231\n",
      "Nothing updated for key user3816016905903543549\n",
      "Nothing updated for key user8627391162697748212\n",
      "Nothing updated for key user1714201688394385917\n",
      "Nothing updated for key user4776433603658464052\n",
      "Nothing updated for key user6038618303538299031\n",
      "Nothing updated for key user2509293395725280967\n",
      "Nothing updated for key user2046326624683468271\n",
      "Nothing updated for key user1372362742772469636\n",
      "Nothing updated for key user6521231408463621464\n",
      "Nothing updated for key user7109452226432457808\n",
      "Nothing updated for key user653081774833061067\n",
      "Nothing updated for key user5817347222824138717\n",
      "Nothing updated for key user5103094082198296394\n",
      "Nothing updated for key user3916938436927789779\n",
      "Nothing updated for key user985766671634283869\n",
      "Nothing updated for key user4881823001484136080\n",
      "Nothing updated for key user6862728708791239180\n",
      "Nothing updated for key user2172140632122632367\n",
      "Nothing updated for key user2156962165040548428\n",
      "Nothing updated for key user8170012179481642210\n",
      "Nothing updated for key user532732225143146983\n",
      "Nothing updated for key user773649639740817034\n",
      "Nothing updated for key user8064062821143829734\n",
      "Nothing updated for key user6053018494890400639\n",
      "Nothing updated for key user2538312093647326066\n",
      "Nothing updated for key user8753546815431210873\n",
      "Nothing updated for key user3227454442640408640\n",
      "Nothing updated for key user55146947531390796\n",
      "Nothing updated for key user74793281414900533\n",
      "Nothing updated for key user3806302896570709622\n",
      "Nothing updated for key user190674964303388819\n",
      "Nothing updated for key user1694555354510876180\n",
      "Nothing updated for key user8768165322001154364\n",
      "Nothing updated for key user3237168451973242567\n",
      "Nothing updated for key user6048332312871132958\n",
      "Nothing updated for key user3222768260621140959\n",
      "Nothing updated for key user6390949534223031570\n",
      "Nothing updated for key user417192187548957262\n",
      "Nothing updated for key user4756227309262813867\n",
      "Nothing updated for key user3111914405046218919\n",
      "Nothing updated for key user7577105179493538185\n",
      "Nothing updated for key user8044198172042478114\n",
      "Nothing updated for key user533073870437445548\n",
      "Nothing updated for key user9004054909285258169\n",
      "Nothing updated for key user6872442718124073107\n",
      "Nothing updated for key user7938248813704665638\n",
      "Nothing updated for key user8512069440321400374\n",
      "Nothing updated for key user3343896086041037374\n",
      "Nothing updated for key user1573987489603120213\n",
      "Nothing updated for key user1693995393998735732\n",
      "Nothing updated for key user176616418245585776\n",
      "Nothing updated for key user7215059939475971719\n"
     ]
    },
    {
     "name": "stdout",
     "output_type": "stream",
     "text": [
      "Nothing updated for key user2413276361938144301\r\n",
      "Nothing updated for key user4153387984724034032\r\n",
      "Nothing updated for key user6877907175873323119\r\n",
      "Nothing updated for key user5817347222824138717\r\n",
      "Nothing updated for key user1573987489603120213\r\n",
      "Nothing updated for key user7934122592197538405\r\n",
      "Nothing updated for key user6772299462829809208\r\n",
      "Nothing updated for key user3121846729596894729\r\n",
      "Nothing updated for key user1574547450115260661\r\n",
      "Nothing updated for key user759249448388715426\r\n",
      "[OVERALL], RunTime(ms), 718\r\n",
      "[OVERALL], Throughput(ops/sec), 1392.757660167131\r\n",
      "[TOTAL_GCS_PS_Scavenge], Count, 2\r\n",
      "[TOTAL_GC_TIME_PS_Scavenge], Time(ms), 8\r\n",
      "[TOTAL_GC_TIME_%_PS_Scavenge], Time(%), 1.1142061281337048\r\n",
      "[TOTAL_GCS_PS_MarkSweep], Count, 0\r\n",
      "[TOTAL_GC_TIME_PS_MarkSweep], Time(ms), 0\r\n",
      "[TOTAL_GC_TIME_%_PS_MarkSweep], Time(%), 0.0\r\n",
      "[TOTAL_GCs], Count, 2\r\n",
      "[TOTAL_GC_TIME], Time(ms), 8\r\n",
      "[TOTAL_GC_TIME_%], Time(%), 1.1142061281337048\r\n",
      "[UPDATE-FAILED], Operations, 484\r\n",
      "[UPDATE-FAILED], AverageLatency(us), 433.75206611570246\r\n",
      "[UPDATE-FAILED], MinLatency(us), 68\r\n",
      "[UPDATE-FAILED], MaxLatency(us), 44319\r\n",
      "[UPDATE-FAILED], 95thPercentileLatency(us), 1274\r\n",
      "[UPDATE-FAILED], 99thPercentileLatency(us), 4131\r\n",
      "[READ], Operations, 0\r\n",
      "[READ], AverageLatency(us), NaN\r\n",
      "[READ], MinLatency(us), 9223372036854775807\r\n",
      "[READ], MaxLatency(us), 0\r\n",
      "[READ], 95thPercentileLatency(us), 0\r\n",
      "[READ], 99thPercentileLatency(us), 0\r\n",
      "[READ], Return=NOT_FOUND, 516\r\n",
      "[CLEANUP], Operations, 1\r\n",
      "[CLEANUP], AverageLatency(us), 7378.0\r\n",
      "[CLEANUP], MinLatency(us), 7376\r\n",
      "[CLEANUP], MaxLatency(us), 7379\r\n",
      "[CLEANUP], 95thPercentileLatency(us), 7379\r\n",
      "[CLEANUP], 99thPercentileLatency(us), 7379\r\n",
      "[UPDATE], Operations, 0\r\n",
      "[UPDATE], AverageLatency(us), NaN\r\n",
      "[UPDATE], MinLatency(us), 9223372036854775807\r\n",
      "[UPDATE], MaxLatency(us), 0\r\n",
      "[UPDATE], 95thPercentileLatency(us), 0\r\n",
      "[UPDATE], 99thPercentileLatency(us), 0\r\n",
      "[UPDATE], Return=NOT_FOUND, 484\r\n",
      "[READ-FAILED], Operations, 516\r\n",
      "[READ-FAILED], AverageLatency(us), 356.4651162790698\r\n",
      "[READ-FAILED], MinLatency(us), 60\r\n",
      "[READ-FAILED], MaxLatency(us), 13063\r\n",
      "[READ-FAILED], 95thPercentileLatency(us), 1352\r\n",
      "[READ-FAILED], 99thPercentileLatency(us), 3971\r\n"
     ]
    }
   ],
   "source": [
    "# YCSB test for MONGO DB\n",
    "!/home/hduser/ycsb-0.17.0/bin/ycsb.sh run mongodb -P /home/hduser/ycsb-0.17.0/workloads/workloada -p mongodb.url=mongodb://localhost:27017 -p mongodb.database=tweet_mongo \n"
   ]
  },
  {
   "cell_type": "code",
   "execution_count": 36,
   "id": "1fee2265",
   "metadata": {},
   "outputs": [],
   "source": [
    "import re\n",
    "\n",
    "def clean_text_advanced(text):\n",
    "    cleaned_text = re.sub(r'(http[s]?://\\S+)|(www\\.\\S+)', '', text)\n",
    "    cleaned_text = re.sub(r'@[A-Za-z0-9_]+', '', cleaned_text)\n",
    "    cleaned_text = re.sub(r'[^a-zA-Z\\s]', '', cleaned_text)\n",
    "    cleaned_text = re.sub(r'\\s+', ' ', cleaned_text)\n",
    "    cleaned_text = cleaned_text.lower()\n",
    "    \n",
    "    return cleaned_text.strip() "
   ]
  },
  {
   "cell_type": "code",
   "execution_count": 37,
   "id": "60a1bccb",
   "metadata": {
    "scrolled": true
   },
   "outputs": [
    {
     "name": "stdout",
     "output_type": "stream",
     "text": [
      "+---+--------------------+--------+---------------+--------------------+--------------------+\n",
      "| id|                date|    flag|           user|                text|        cleaned_text|\n",
      "+---+--------------------+--------+---------------+--------------------+--------------------+\n",
      "|  0|Mon Apr 06 22:19:...|NO_QUERY|_TheSpecialOne_|@switchfoot http:...|awww thats a bumm...|\n",
      "|  1|Mon Apr 06 22:19:...|NO_QUERY|  scotthamilton|is upset that he ...|is upset that he ...|\n",
      "|  2|Mon Apr 06 22:19:...|NO_QUERY|       mattycus|@Kenichan I dived...|i dived many time...|\n",
      "|  3|Mon Apr 06 22:19:...|NO_QUERY|        ElleCTF|my whole body fee...|my whole body fee...|\n",
      "|  4|Mon Apr 06 22:19:...|NO_QUERY|         Karoli|@nationwideclass ...|no its not behavi...|\n",
      "+---+--------------------+--------+---------------+--------------------+--------------------+\n",
      "only showing top 5 rows\n",
      "\n"
     ]
    }
   ],
   "source": [
    "from pyspark.sql.functions import udf\n",
    "from pyspark.sql.types import StringType\n",
    "\n",
    "clean_text_udf = udf(lambda text: clean_text_advanced(text) if text else '', StringType())\n",
    "\n",
    "df = df.withColumn('cleaned_text', clean_text_udf(df['text']))\n",
    "\n",
    "df.show(5)\n"
   ]
  },
  {
   "cell_type": "code",
   "execution_count": 105,
   "id": "7b2901d7",
   "metadata": {
    "scrolled": true
   },
   "outputs": [
    {
     "name": "stdout",
     "output_type": "stream",
     "text": [
      "root\n",
      " |-- id: integer (nullable = true)\n",
      " |-- date: string (nullable = true)\n",
      " |-- flag: string (nullable = true)\n",
      " |-- user: string (nullable = true)\n",
      " |-- text: string (nullable = true)\n",
      " |-- cleaned_text: string (nullable = true)\n",
      "\n"
     ]
    }
   ],
   "source": [
    "df.printSchema()"
   ]
  },
  {
   "cell_type": "code",
   "execution_count": 29,
   "id": "0445a551",
   "metadata": {
    "scrolled": true
   },
   "outputs": [
    {
     "data": {
      "text/plain": [
       "Row(id=0, date='Mon Apr 06 22:19:45 PDT 2009', flag='NO_QUERY', user='_TheSpecialOne_', text=\"@switchfoot http://twitpic.com/2y1zl - Awww, that's a bummer.  You shoulda got David Carr of Third Day to do it. ;D\", cleaned_text='awww thats a bummer you shoulda got david carr of third day to do it d')"
      ]
     },
     "execution_count": 29,
     "metadata": {},
     "output_type": "execute_result"
    }
   ],
   "source": [
    "df.first()"
   ]
  },
  {
   "cell_type": "code",
   "execution_count": 30,
   "id": "ef7a5e1f",
   "metadata": {
    "scrolled": true
   },
   "outputs": [
    {
     "name": "stdout",
     "output_type": "stream",
     "text": [
      "root\n",
      " |-- id: integer (nullable = true)\n",
      " |-- date: string (nullable = true)\n",
      " |-- flag: string (nullable = true)\n",
      " |-- user: string (nullable = true)\n",
      " |-- text: string (nullable = true)\n",
      " |-- cleaned_text: string (nullable = true)\n",
      "\n"
     ]
    }
   ],
   "source": [
    "df.printSchema()"
   ]
  },
  {
   "cell_type": "code",
   "execution_count": 38,
   "id": "87679ac1",
   "metadata": {},
   "outputs": [
    {
     "name": "stderr",
     "output_type": "stream",
     "text": [
      "/usr/lib/python3/dist-packages/scipy/__init__.py:146: UserWarning: A NumPy version >=1.17.3 and <1.25.0 is required for this version of SciPy (detected version 1.26.0\n",
      "  warnings.warn(f\"A NumPy version >={np_minversion} and <{np_maxversion}\"\n"
     ]
    },
    {
     "name": "stdout",
     "output_type": "stream",
     "text": [
      "+--------------------+-----------+\n",
      "|        cleaned_text|  sentiment|\n",
      "+--------------------+-----------+\n",
      "|awww thats a bumm...|        0.2|\n",
      "|is upset that he ...|        0.0|\n",
      "|i dived many time...|        0.5|\n",
      "|my whole body fee...|        0.2|\n",
      "|no its not behavi...|     -0.625|\n",
      "|  not the whole crew|        0.2|\n",
      "|          need a hug|        0.0|\n",
      "|hey long time no ...| 0.27333334|\n",
      "|nope they didnt h...|        0.0|\n",
      "|        que me muera|        0.0|\n",
      "|spring break in p...|-0.21428572|\n",
      "|i just repierced ...|        0.0|\n",
      "|i couldnt bear to...|        0.0|\n",
      "|it it counts idk ...|        0.0|\n",
      "|i wouldve been th...|      0.075|\n",
      "|i wish i got to w...|        0.0|\n",
      "|hollis death scen...|        0.0|\n",
      "| about to file taxes|        0.0|\n",
      "|ahh ive always wa...|        0.5|\n",
      "|oh dear were you ...|        0.0|\n",
      "+--------------------+-----------+\n",
      "only showing top 20 rows\n",
      "\n"
     ]
    }
   ],
   "source": [
    "from pyspark.sql.functions import udf\n",
    "from pyspark.sql.types import FloatType\n",
    "from textblob import TextBlob\n",
    "\n",
    "# Duygu analizi fonksiyonu\n",
    "def analyze_sentiment(text):\n",
    "    blob = TextBlob(text)\n",
    "    return blob.sentiment.polarity\n",
    "\n",
    "# UDF (User Defined Function) tanımlama\n",
    "sentiment_udf = udf(analyze_sentiment, FloatType())\n",
    "\n",
    "# Duygu analizini uygula ve sonucu yeni bir sütuna ekle\n",
    "df = df.withColumn('sentiment', sentiment_udf(df['cleaned_text']))\n",
    "\n",
    "# İlk beş gözlemi göster\n",
    "df.select('cleaned_text', 'sentiment').show(20)\n"
   ]
  },
  {
   "cell_type": "code",
   "execution_count": 39,
   "id": "2c4c5585",
   "metadata": {},
   "outputs": [],
   "source": [
    "df = df.orderBy(\"date\")"
   ]
  },
  {
   "cell_type": "code",
   "execution_count": 40,
   "id": "70b039f1",
   "metadata": {},
   "outputs": [],
   "source": [
    "spark.conf.set(\"spark.sql.legacy.timeParserPolicy\", \"LEGACY\")"
   ]
  },
  {
   "cell_type": "code",
   "execution_count": 41,
   "id": "c16364ee",
   "metadata": {},
   "outputs": [],
   "source": [
    "from pyspark.sql.functions import to_timestamp\n",
    "from pyspark.sql.functions import to_date, col\n",
    "\n",
    "df = df.withColumn(\"date\", to_date(col(\"date\"), \"EEE MMM dd HH:mm:ss z yyyy\"))"
   ]
  },
  {
   "cell_type": "code",
   "execution_count": 56,
   "id": "53f2ad11",
   "metadata": {
    "scrolled": true
   },
   "outputs": [
    {
     "name": "stderr",
     "output_type": "stream",
     "text": [
      "/usr/lib/python3/dist-packages/scipy/__init__.py:146: UserWarning: A NumPy version >=1.17.3 and <1.25.0 is required for this version of SciPy (detected version 1.26.0\n",
      "  warnings.warn(f\"A NumPy version >={np_minversion} and <{np_maxversion}\"\n",
      "/usr/lib/python3/dist-packages/scipy/__init__.py:146: UserWarning: A NumPy version >=1.17.3 and <1.25.0 is required for this version of SciPy (detected version 1.26.0\n",
      "  warnings.warn(f\"A NumPy version >={np_minversion} and <{np_maxversion}\"\n",
      "                                                                                \r"
     ]
    },
    {
     "data": {
      "text/plain": [
       "Row(id=0, Date=datetime.date(2009, 4, 7), flag='NO_QUERY', user='_TheSpecialOne_', text=\"@switchfoot http://twitpic.com/2y1zl - Awww, that's a bummer.  You shoulda got David Carr of Third Day to do it. ;D\", cleaned_text='awww thats a bummer you shoulda got david carr of third day to do it d', sentiment=0.20000000298023224, sentiment_label=1)"
      ]
     },
     "execution_count": 56,
     "metadata": {},
     "output_type": "execute_result"
    }
   ],
   "source": [
    "from pyspark.sql.functions import when\n",
    "from pyspark.sql.types import IntegerType\n",
    "\n",
    "# Etiketleme işlemini gerçekleştiren fonksiyon\n",
    "def label_sentiment(score):\n",
    "    if score > 0:\n",
    "        return 1\n",
    "    elif score < 0:\n",
    "        return -1\n",
    "    else:\n",
    "        return 0\n",
    "\n",
    "# UDF (User Defined Function) tanımlama\n",
    "label_udf = udf(label_sentiment, IntegerType())\n",
    "\n",
    "# Sentiment skorlarına göre etiketleme yap\n",
    "df = df.withColumn('sentiment_label', label_udf(df['sentiment']))\n",
    "\n",
    "# İlk beş gözlemi göster\n",
    "df.first()\n"
   ]
  },
  {
   "cell_type": "code",
   "execution_count": 58,
   "id": "6b08be4a",
   "metadata": {},
   "outputs": [
    {
     "name": "stderr",
     "output_type": "stream",
     "text": [
      "/usr/lib/python3/dist-packages/scipy/__init__.py:146: UserWarning: A NumPy version >=1.17.3 and <1.25.0 is required for this version of SciPy (detected version 1.26.0\n",
      "  warnings.warn(f\"A NumPy version >={np_minversion} and <{np_maxversion}\"\n",
      "                                                                                \r"
     ]
    },
    {
     "data": {
      "image/png": "[encoded data removed]",
      "text/plain": [
       "<Figure size 432x288 with 1 Axes>"
      ]
     },
     "metadata": {
      "needs_background": "light"
     },
     "output_type": "display_data"
    }
   ],
   "source": [
    "sentiment_labels = df.groupBy(\"sentiment_label\").count().orderBy(\"sentiment_label\").collect()\n",
    "\n",
    "labels = [row.sentiment_label for row in sentiment_labels]\n",
    "counts = [row[\"count\"] for row in sentiment_labels]\n",
    "\n",
    "# Çubuk grafiği oluştur\n",
    "plt.bar(labels, counts, color=['blue', 'green', 'red'])\n",
    "plt.title('Distribution of Sentiment Labels in Tweets')\n",
    "plt.xlabel('Sentiment Label')\n",
    "plt.ylabel('Number of Tweets')\n",
    "plt.show()"
   ]
  },
  {
   "cell_type": "code",
   "execution_count": 144,
   "id": "4eeb4981",
   "metadata": {
    "scrolled": true
   },
   "outputs": [
    {
     "name": "stdout",
     "output_type": "stream",
     "text": [
      "root\n",
      " |-- id: integer (nullable = true)\n",
      " |-- date: string (nullable = true)\n",
      " |-- flag: string (nullable = true)\n",
      " |-- user: string (nullable = true)\n",
      " |-- text: string (nullable = true)\n",
      " |-- cleaned_text: string (nullable = true)\n",
      " |-- sentiment: float (nullable = true)\n",
      " |-- sentiment_label: integer (nullable = true)\n",
      "\n"
     ]
    }
   ],
   "source": [
    "df.printSchema()"
   ]
  },
  {
   "cell_type": "code",
   "execution_count": 111,
   "id": "1f2cae2d",
   "metadata": {},
   "outputs": [
    {
     "name": "stderr",
     "output_type": "stream",
     "text": [
      "/usr/lib/python3/dist-packages/scipy/__init__.py:146: UserWarning: A NumPy version >=1.17.3 and <1.25.0 is required for this version of SciPy (detected version 1.26.0\n",
      "  warnings.warn(f\"A NumPy version >={np_minversion} and <{np_maxversion}\"\n",
      "                                                                                \r"
     ]
    },
    {
     "data": {
      "text/plain": [
       "Row(id=0, date=datetime.date(2009, 4, 7), flag='NO_QUERY', user='_TheSpecialOne_', text=\"@switchfoot http://twitpic.com/2y1zl - Awww, that's a bummer.  You shoulda got David Carr of Third Day to do it. ;D\", cleaned_text='awww thats a bummer you shoulda got david carr of third day to do it d', sentiment=0.20000000298023224, sentiment_label=1)"
      ]
     },
     "execution_count": 111,
     "metadata": {},
     "output_type": "execute_result"
    }
   ],
   "source": [
    "df.first()"
   ]
  },
  {
   "cell_type": "code",
   "execution_count": 75,
   "id": "ff6dd8cc",
   "metadata": {},
   "outputs": [
    {
     "name": "stdout",
     "output_type": "stream",
     "text": [
      "root\n",
      " |-- id: integer (nullable = true)\n",
      " |-- date: date (nullable = true)\n",
      " |-- flag: string (nullable = true)\n",
      " |-- user: string (nullable = true)\n",
      " |-- text: string (nullable = true)\n",
      " |-- cleaned_text: string (nullable = true)\n",
      " |-- sentiment: float (nullable = true)\n",
      " |-- sentiment_label: integer (nullable = true)\n",
      "\n"
     ]
    }
   ],
   "source": [
    "df.printSchema()"
   ]
  },
  {
   "cell_type": "code",
   "execution_count": 112,
   "id": "d314994d",
   "metadata": {},
   "outputs": [
    {
     "name": "stderr",
     "output_type": "stream",
     "text": [
      "/usr/lib/python3/dist-packages/scipy/__init__.py:146: UserWarning: A NumPy version >=1.17.3 and <1.25.0 is required for this version of SciPy (detected version 1.26.0\n",
      "  warnings.warn(f\"A NumPy version >={np_minversion} and <{np_maxversion}\"\n",
      "/usr/lib/python3/dist-packages/scipy/__init__.py:146: UserWarning: A NumPy version >=1.17.3 and <1.25.0 is required for this version of SciPy (detected version 1.26.0\n",
      "  warnings.warn(f\"A NumPy version >={np_minversion} and <{np_maxversion}\"\n",
      "                                                                                \r"
     ]
    }
   ],
   "source": [
    "df.write.jdbc(url=jdbc_url, table=\"tweets\", mode=\"overwrite\", properties=properties)"
   ]
  },
  {
   "cell_type": "code",
   "execution_count": 43,
   "id": "f612a98c",
   "metadata": {},
   "outputs": [],
   "source": [
    "dates_scores = df.groupBy('date').agg({'sentiment': 'mean'}).orderBy('date')\n"
   ]
  },
  {
   "cell_type": "code",
   "execution_count": 17,
   "id": "ec57fb6c",
   "metadata": {},
   "outputs": [
    {
     "name": "stderr",
     "output_type": "stream",
     "text": [
      "/usr/lib/python3/dist-packages/scipy/__init__.py:146: UserWarning: A NumPy version >=1.17.3 and <1.25.0 is required for this version of SciPy (detected version 1.26.0\n",
      "  warnings.warn(f\"A NumPy version >={np_minversion} and <{np_maxversion}\"\n",
      "/usr/lib/python3/dist-packages/scipy/__init__.py:146: UserWarning: A NumPy version >=1.17.3 and <1.25.0 is required for this version of SciPy (detected version 1.26.0\n",
      "  warnings.warn(f\"A NumPy version >={np_minversion} and <{np_maxversion}\"\n",
      "[Stage 24:>                                                         (0 + 2) / 2]\r"
     ]
    },
    {
     "name": "stdout",
     "output_type": "stream",
     "text": [
      "+----------+-------------------+\n",
      "|      date|     avg(sentiment)|\n",
      "+----------+-------------------+\n",
      "|2009-04-07|0.09831896075533297|\n",
      "|2009-04-18|0.11308046646558229|\n",
      "|2009-04-19| 0.1120155575144859|\n",
      "|2009-04-20|0.10982939870772856|\n",
      "|2009-04-21| 0.1109461231543173|\n",
      "|2009-05-02|0.11137476102207566|\n",
      "|2009-05-03|0.11059398256638492|\n",
      "|2009-05-04|0.10755923328567124|\n",
      "|2009-05-10| 0.1470243554633725|\n",
      "|2009-05-11|0.12705222987740644|\n",
      "|2009-05-12|0.10561690404372645|\n",
      "|2009-05-14|0.10372923804899402|\n",
      "|2009-05-17|0.11644196157857631|\n",
      "|2009-05-18|0.12022140122497185|\n",
      "|2009-05-22| 0.1199584581580909|\n",
      "|2009-05-24|0.10336483064928703|\n",
      "|2009-05-25|   0.14630454432594|\n",
      "|2009-05-27|0.10614019056108182|\n",
      "|2009-05-29|0.11557155121390274|\n",
      "|2009-05-30|0.11766600345578808|\n",
      "+----------+-------------------+\n",
      "only showing top 20 rows\n",
      "\n"
     ]
    },
    {
     "name": "stderr",
     "output_type": "stream",
     "text": [
      "\r",
      "[Stage 24:=============================>                            (1 + 1) / 2]\r",
      "\r",
      "                                                                                \r"
     ]
    }
   ],
   "source": [
    "dates_scores.show()\n"
   ]
  },
  {
   "cell_type": "code",
   "execution_count": 44,
   "id": "deee7695",
   "metadata": {
    "scrolled": false
   },
   "outputs": [
    {
     "name": "stderr",
     "output_type": "stream",
     "text": [
      "[Stage 100:>                                                        (0 + 2) / 2]\r"
     ]
    },
    {
     "name": "stdout",
     "output_type": "stream",
     "text": [
      "Min Date: 2009-04-07\n",
      "Max Date: 2009-06-25\n"
     ]
    },
    {
     "name": "stderr",
     "output_type": "stream",
     "text": [
      "\r",
      "[Stage 100:============================>                            (1 + 1) / 2]\r",
      "\r",
      "                                                                                \r"
     ]
    }
   ],
   "source": [
    "from pyspark.sql.functions import to_date, col\n",
    "df = df.withColumn(\"date\", col(\"date\").cast(\"date\"))\n",
    "\n",
    "df = df.orderBy(\"date\")\n",
    "min_date = df.agg({\"date\": \"min\"}).collect()[0][0]\n",
    "max_date = df.agg({\"date\": \"max\"}).collect()[0][0]\n",
    "print(\"Min Date:\", min_date)\n",
    "print(\"Max Date:\", max_date)"
   ]
  },
  {
   "cell_type": "code",
   "execution_count": 45,
   "id": "2ece98f9",
   "metadata": {},
   "outputs": [],
   "source": [
    "from datetime import timedelta\n",
    "\n",
    "# Eksik tarih aralığını oluştur\n",
    "date_range = [min_date + timedelta(days=x) for x in range((max_date - min_date).days + 1)]"
   ]
  },
  {
   "cell_type": "code",
   "execution_count": 46,
   "id": "464399a6",
   "metadata": {
    "scrolled": true
   },
   "outputs": [
    {
     "name": "stderr",
     "output_type": "stream",
     "text": [
      "[Stage 103:============================>                            (1 + 1) / 2]\r"
     ]
    },
    {
     "name": "stdout",
     "output_type": "stream",
     "text": [
      "Missing Dates:\n",
      "2009-04-08\n",
      "2009-04-09\n",
      "2009-04-10\n",
      "2009-04-11\n",
      "2009-04-12\n",
      "2009-04-13\n",
      "2009-04-14\n",
      "2009-04-15\n",
      "2009-04-16\n",
      "2009-04-17\n",
      "2009-04-22\n",
      "2009-04-23\n",
      "2009-04-24\n",
      "2009-04-25\n",
      "2009-04-26\n",
      "2009-04-27\n",
      "2009-04-28\n",
      "2009-04-29\n",
      "2009-04-30\n",
      "2009-05-01\n",
      "2009-05-05\n",
      "2009-05-06\n",
      "2009-05-07\n",
      "2009-05-08\n",
      "2009-05-09\n",
      "2009-05-13\n",
      "2009-05-15\n",
      "2009-05-16\n",
      "2009-05-19\n",
      "2009-05-20\n",
      "2009-05-21\n",
      "2009-05-23\n",
      "2009-05-26\n",
      "2009-05-28\n",
      "2009-06-09\n",
      "2009-06-10\n",
      "2009-06-11\n",
      "2009-06-12\n",
      "2009-06-13\n"
     ]
    },
    {
     "name": "stderr",
     "output_type": "stream",
     "text": [
      "\r",
      "                                                                                \r"
     ]
    }
   ],
   "source": [
    "from pyspark.sql.functions import date_add\n",
    "from datetime import datetime, timedelta\n",
    "existing_dates = df.select(\"date\").distinct().rdd.flatMap(lambda x: x).collect()\n",
    "\n",
    "date_range = [min_date + timedelta(days=x) for x in range((max_date - min_date).days + 1)]\n",
    "# Eksik tarihleri bulun\n",
    "missing_dates = [date for date in date_range if date not in existing_dates]\n",
    "\n",
    "if not missing_dates:\n",
    "    print(\"No Missing Dates\")\n",
    "else:\n",
    "    print(\"Missing Dates:\")\n",
    "    for missing_date in missing_dates:\n",
    "        print(missing_date)"
   ]
  },
  {
   "cell_type": "code",
   "execution_count": 47,
   "id": "b2bfdfbd",
   "metadata": {
    "scrolled": true
   },
   "outputs": [
    {
     "name": "stdout",
     "output_type": "stream",
     "text": [
      "+----------+--------------+\n",
      "|      date|avg(sentiment)|\n",
      "+----------+--------------+\n",
      "|2009-04-08|             0|\n",
      "|2009-04-09|             0|\n",
      "|2009-04-10|             0|\n",
      "|2009-04-11|             0|\n",
      "|2009-04-12|             0|\n",
      "|2009-04-13|             0|\n",
      "|2009-04-14|             0|\n",
      "|2009-04-15|             0|\n",
      "|2009-04-16|             0|\n",
      "|2009-04-17|             0|\n",
      "|2009-04-22|             0|\n",
      "|2009-04-23|             0|\n",
      "|2009-04-24|             0|\n",
      "|2009-04-25|             0|\n",
      "|2009-04-26|             0|\n",
      "|2009-04-27|             0|\n",
      "|2009-04-28|             0|\n",
      "|2009-04-29|             0|\n",
      "|2009-04-30|             0|\n",
      "|2009-05-01|             0|\n",
      "+----------+--------------+\n",
      "only showing top 20 rows\n",
      "\n"
     ]
    }
   ],
   "source": [
    "missing_dates_df = spark.createDataFrame([(date,0) for date in missing_dates], [\"date\",\"avg(sentiment)\"])\n",
    "\n",
    "# Show the resulting DataFrame\n",
    "missing_dates_df.show()"
   ]
  },
  {
   "cell_type": "code",
   "execution_count": 48,
   "id": "d9ec42cd",
   "metadata": {},
   "outputs": [],
   "source": [
    "all_dates = missing_dates_df.unionByName(dates_scores)"
   ]
  },
  {
   "cell_type": "code",
   "execution_count": 23,
   "id": "20813724",
   "metadata": {},
   "outputs": [
    {
     "name": "stderr",
     "output_type": "stream",
     "text": [
      "                                                                                \r"
     ]
    },
    {
     "name": "stdout",
     "output_type": "stream",
     "text": [
      "+----------+-------------------+\n",
      "|      date|     avg(sentiment)|\n",
      "+----------+-------------------+\n",
      "|2009-04-07|0.09831896075533297|\n",
      "|2009-04-08|                0.0|\n",
      "|2009-04-09|                0.0|\n",
      "|2009-04-10|                0.0|\n",
      "|2009-04-11|                0.0|\n",
      "|2009-04-12|                0.0|\n",
      "|2009-04-13|                0.0|\n",
      "|2009-04-14|                0.0|\n",
      "|2009-04-15|                0.0|\n",
      "|2009-04-16|                0.0|\n",
      "|2009-04-17|                0.0|\n",
      "|2009-04-18|0.11308046646558229|\n",
      "|2009-04-19| 0.1120155575144859|\n",
      "|2009-04-20|0.10982939870772856|\n",
      "|2009-04-21| 0.1109461231543173|\n",
      "|2009-04-22|                0.0|\n",
      "|2009-04-23|                0.0|\n",
      "|2009-04-24|                0.0|\n",
      "|2009-04-25|                0.0|\n",
      "|2009-04-26|                0.0|\n",
      "+----------+-------------------+\n",
      "only showing top 20 rows\n",
      "\n"
     ]
    }
   ],
   "source": [
    "all_dates.orderBy('date').show()"
   ]
  },
  {
   "cell_type": "code",
   "execution_count": 49,
   "id": "29a7e97f",
   "metadata": {},
   "outputs": [],
   "source": [
    "all_dates = all_dates.withColumnRenamed(\"avg(sentiment)\", \"sentiment\").orderBy('date')"
   ]
  },
  {
   "cell_type": "code",
   "execution_count": 50,
   "id": "abc87672",
   "metadata": {},
   "outputs": [
    {
     "name": "stderr",
     "output_type": "stream",
     "text": [
      "/usr/lib/python3/dist-packages/scipy/__init__.py:146: UserWarning: A NumPy version >=1.17.3 and <1.25.0 is required for this version of SciPy (detected version 1.26.0\n",
      "  warnings.warn(f\"A NumPy version >={np_minversion} and <{np_maxversion}\"\n",
      "/usr/lib/python3/dist-packages/scipy/__init__.py:146: UserWarning: A NumPy version >=1.17.3 and <1.25.0 is required for this version of SciPy (detected version 1.26.0\n",
      "  warnings.warn(f\"A NumPy version >={np_minversion} and <{np_maxversion}\"\n",
      "                                                                                \r"
     ]
    }
   ],
   "source": [
    "sentiment_scores = all_dates.select(\"date\", \"sentiment\").collect()\n",
    "\n",
    "dates = [row.date for row in sentiment_scores]\n",
    "scores = [row.sentiment for row in sentiment_scores]"
   ]
  },
  {
   "cell_type": "code",
   "execution_count": 76,
   "id": "76e796ed",
   "metadata": {},
   "outputs": [
    {
     "name": "stdout",
     "output_type": "stream",
     "text": [
      "ADF Statistic: -5.320111197587429\n",
      "p-value: 4.974141842162184e-06\n",
      "Critial Values:\n",
      " 1%, -3.5159766913976376\n",
      "Critial Values:\n",
      " 5%, -2.898885703483903\n",
      "Critial Values:\n",
      " 10%, -2.5866935058484217\n",
      "\n",
      "KPSS Statistic: 0.194675\n",
      "p-value: 0.100000\n",
      "Critial Values:\n",
      " 10%, 0.347\n",
      "Critial Values:\n",
      " 5%, 0.463\n",
      "Critial Values:\n",
      " 2.5%, 0.574\n",
      "Critial Values:\n",
      " 1%, 0.739\n"
     ]
    },
    {
     "name": "stderr",
     "output_type": "stream",
     "text": [
      "/tmp/ipykernel_19980/1244984464.py:10: InterpolationWarning: The test statistic is outside of the range of p-values available in the\n",
      "look-up table. The actual p-value is greater than the p-value returned.\n",
      "\n",
      "  result = kpss(scores, regression='c')\n"
     ]
    }
   ],
   "source": [
    "from statsmodels.tsa.stattools import adfuller, kpss\n",
    "# ADF Test\n",
    "result = adfuller(scores, autolag='AIC')\n",
    "print(f'ADF Statistic: {result[0]}')\n",
    "print(f'p-value: {result[1]}')\n",
    "for key, value in result[4].items():\n",
    "    print('Critial Values:')\n",
    "    print(f' {key}, {value}')\n",
    "# KPSS Test\n",
    "result = kpss(scores, regression='c')\n",
    "print('\\nKPSS Statistic: %f' % result[0])\n",
    "print('p-value: %f' % result[1])\n",
    "for key, value in result[3].items():\n",
    "    print('Critial Values:')\n",
    "    print(f' {key}, {value}')"
   ]
  },
  {
   "cell_type": "code",
   "execution_count": 78,
   "id": "e72f7065",
   "metadata": {},
   "outputs": [
    {
     "data": {
      "text/plain": [
       "<AxesSubplot:xlabel='Lag', ylabel='Autocorrelation'>"
      ]
     },
     "execution_count": 78,
     "metadata": {},
     "output_type": "execute_result"
    },
    {
     "data": {
      "image/png": "[encoded data removed]",
      "text/plain": [
       "<Figure size 1080x600 with 1 Axes>"
      ]
     },
     "metadata": {
      "needs_background": "light"
     },
     "output_type": "display_data"
    }
   ],
   "source": [
    "from pandas.plotting import autocorrelation_plot\n",
    "\n",
    "plt.rcParams.update({'figure.figsize':(9,5), 'figure.dpi':120})\n",
    "autocorrelation_plot(scores)"
   ]
  },
  {
   "cell_type": "code",
   "execution_count": 26,
   "id": "f5ff4de5",
   "metadata": {
    "scrolled": true
   },
   "outputs": [
    {
     "data": {
      "image/png": "[encoded data removed]",
      "text/plain": [
       "<Figure size 432x288 with 1 Axes>"
      ]
     },
     "metadata": {
      "needs_background": "light"
     },
     "output_type": "display_data"
    }
   ],
   "source": [
    "plt.plot(dates, scores, linestyle='-')\n",
    "plt.title('Sentiment Analysis of Tweets Over Time')\n",
    "plt.xlabel('Date')\n",
    "plt.ylabel('Sentiment Score')\n",
    "plt.xticks(rotation=45)\n",
    "plt.tight_layout()\n",
    "plt.show()"
   ]
  },
  {
   "cell_type": "code",
   "execution_count": 31,
   "id": "a99bf064",
   "metadata": {},
   "outputs": [],
   "source": [
    "event_date = \"2009-05-15\"\n",
    "\n",
    "all_dates = all_dates.withColumn(\"event\", when(col(\"date\") == event_date, 1).otherwise(0))\n",
    "\n",
    "pre_event_df = all_dates.filter(col(\"date\") < event_date)\n",
    "post_event_df = all_dates.filter(col(\"date\") >= event_date)"
   ]
  },
  {
   "cell_type": "code",
   "execution_count": 32,
   "id": "fed92bc0",
   "metadata": {},
   "outputs": [
    {
     "name": "stderr",
     "output_type": "stream",
     "text": [
      "                                                                                \r"
     ]
    }
   ],
   "source": [
    "pre_event_sentiments = pre_event_df.select(\"date\", \"sentiment\").collect()\n",
    "post_event_sentiments = post_event_df.select(\"date\", \"sentiment\").collect()\n",
    "\n",
    "dates_pre = [row.date for row in pre_event_sentiments]\n",
    "sentiments_pre = [row.sentiment for row in pre_event_sentiments]\n",
    "\n",
    "dates_post = [row.date for row in post_event_sentiments]\n",
    "sentiments_post = [row.sentiment for row in post_event_sentiments]"
   ]
  },
  {
   "cell_type": "code",
   "execution_count": 35,
   "id": "5c3c8375",
   "metadata": {},
   "outputs": [
    {
     "data": {
      "image/png": "[encoded data removed]",
      "text/plain": [
       "<Figure size 432x288 with 1 Axes>"
      ]
     },
     "metadata": {
      "needs_background": "light"
     },
     "output_type": "display_data"
    }
   ],
   "source": [
    "plt.plot(dates_pre, sentiments_pre, label='Before Event', marker='o', linestyle='-')\n",
    "plt.plot(dates_post, sentiments_post, label='After Event', marker='o', linestyle='-')\n",
    "plt.title('Event Impact Analysis on Sentiment Scores')\n",
    "plt.xlabel('Date')\n",
    "plt.ylabel('Sentiment Score')\n",
    "plt.legend()\n",
    "plt.xticks(rotation=45)\n",
    "plt.tight_layout()\n",
    "plt.show()"
   ]
  },
  {
   "cell_type": "code",
   "execution_count": 20,
   "id": "64925eb7",
   "metadata": {},
   "outputs": [],
   "source": [
    "from pyspark.sql import SparkSession\n",
    "from pyspark.ml.feature import VectorAssembler\n",
    "from pyspark.ml.linalg import Vectors\n",
    "from pyspark.ml import Pipeline\n",
    "import tensorflow as tf\n",
    "import numpy as np"
   ]
  },
  {
   "cell_type": "code",
   "execution_count": 21,
   "id": "2bb99ffb",
   "metadata": {},
   "outputs": [
    {
     "name": "stderr",
     "output_type": "stream",
     "text": [
      "                                                                                \r"
     ]
    }
   ],
   "source": [
    "# LSTM modeli için giriş vektörünü oluşturun\n",
    "vector_assembler = VectorAssembler(inputCols=[\"sentiment\"], outputCol=\"features\")\n",
    "all_dates = vector_assembler.transform(all_dates)\n",
    "\n",
    "# Veriyi TensorFlow için uygun formata dönüştürün\n",
    "data_array = np.array(all_dates.select(\"features\").collect())\n",
    "input_data = tf.convert_to_tensor(data_array, dtype=tf.float32)\n",
    "\n",
    "# TensorFlow LSTM modeli oluşturun\n",
    "model = tf.keras.Sequential([\n",
    "    tf.keras.layers.LSTM(50, input_shape=(1, 1)),\n",
    "    tf.keras.layers.Dense(1)\n",
    "])"
   ]
  },
  {
   "cell_type": "code",
   "execution_count": 22,
   "id": "da4e5f10",
   "metadata": {},
   "outputs": [
    {
     "name": "stderr",
     "output_type": "stream",
     "text": [
      "                                                                                \r"
     ]
    },
    {
     "name": "stdout",
     "output_type": "stream",
     "text": [
      "Epoch 1/20\n",
      "3/3 [==============================] - 1s 3ms/step - loss: 0.0049\n",
      "Epoch 2/20\n",
      "3/3 [==============================] - 0s 2ms/step - loss: 0.0042\n",
      "Epoch 3/20\n",
      "3/3 [==============================] - 0s 3ms/step - loss: 0.0037\n",
      "Epoch 4/20\n",
      "3/3 [==============================] - 0s 2ms/step - loss: 0.0033\n",
      "Epoch 5/20\n",
      "3/3 [==============================] - 0s 1ms/step - loss: 0.0031\n",
      "Epoch 6/20\n",
      "3/3 [==============================] - 0s 1ms/step - loss: 0.0030\n",
      "Epoch 7/20\n",
      "3/3 [==============================] - 0s 2ms/step - loss: 0.0030\n",
      "Epoch 8/20\n",
      "3/3 [==============================] - 0s 2ms/step - loss: 0.0029\n",
      "Epoch 9/20\n",
      "3/3 [==============================] - 0s 1ms/step - loss: 0.0029\n",
      "Epoch 10/20\n",
      "3/3 [==============================] - 0s 2ms/step - loss: 0.0029\n",
      "Epoch 11/20\n",
      "3/3 [==============================] - 0s 2ms/step - loss: 0.0028\n",
      "Epoch 12/20\n",
      "3/3 [==============================] - 0s 1ms/step - loss: 0.0027\n",
      "Epoch 13/20\n",
      "3/3 [==============================] - 0s 1ms/step - loss: 0.0027\n",
      "Epoch 14/20\n",
      "3/3 [==============================] - 0s 2ms/step - loss: 0.0026\n",
      "Epoch 15/20\n",
      "3/3 [==============================] - 0s 2ms/step - loss: 0.0026\n",
      "Epoch 16/20\n",
      "3/3 [==============================] - 0s 2ms/step - loss: 0.0025\n",
      "Epoch 17/20\n",
      "3/3 [==============================] - 0s 1ms/step - loss: 0.0025\n",
      "Epoch 18/20\n",
      "3/3 [==============================] - 0s 1ms/step - loss: 0.0024\n",
      "Epoch 19/20\n",
      "3/3 [==============================] - 0s 1ms/step - loss: 0.0024\n",
      "Epoch 20/20\n",
      "3/3 [==============================] - 0s 1ms/step - loss: 0.0023\n",
      "3/3 [==============================] - 0s 2ms/step\n"
     ]
    }
   ],
   "source": [
    "from pyspark.sql import functions as F\n",
    "y_true = np.array(all_dates.select(\"sentiment\").collect())\n",
    "# Modeli derleyin\n",
    "model.compile(optimizer='adam', loss='mse')\n",
    "\n",
    "# Modeli eğitin (gerçek eğitim verisi ve hedefi ile de\n",
    "model.fit(input_data, y_true, epochs=20)\n",
    "\n",
    "# Tahminleri yapın\n",
    "predictions = model.predict(input_data).flatten()\n",
    "\n",
    "# PySpark DataFrame'e tahminleri ekleyin\n",
    "all_dates = all_dates.withColumn(\"prediction\", F.array([F.lit(float(val)) for val in predictions]))\n"
   ]
  },
  {
   "cell_type": "code",
   "execution_count": 24,
   "id": "4354d4c1",
   "metadata": {},
   "outputs": [
    {
     "name": "stdout",
     "output_type": "stream",
     "text": [
      "Reloading Tuner from keras_tuner_dir/timeseries_lstm/tuner0.json\n",
      "WARNING:tensorflow:Detecting that an object or model or tf.train.Checkpoint is being deleted with unrestored values. See the following logs for the specific values in question. To silence these warnings, use `status.expect_partial()`. See https://www.tensorflow.org/api_docs/python/tf/train/Checkpoint#restorefor details about the status object returned by the restore function.\n",
      "WARNING:tensorflow:Value in checkpoint could not be found in the restored object: (root).optimizer._variables.1\n",
      "WARNING:tensorflow:Value in checkpoint could not be found in the restored object: (root).optimizer._variables.2\n",
      "WARNING:tensorflow:Value in checkpoint could not be found in the restored object: (root).optimizer._variables.3\n",
      "WARNING:tensorflow:Value in checkpoint could not be found in the restored object: (root).optimizer._variables.4\n",
      "WARNING:tensorflow:Value in checkpoint could not be found in the restored object: (root).optimizer._variables.5\n",
      "WARNING:tensorflow:Value in checkpoint could not be found in the restored object: (root).optimizer._variables.6\n",
      "WARNING:tensorflow:Value in checkpoint could not be found in the restored object: (root).optimizer._variables.7\n",
      "WARNING:tensorflow:Value in checkpoint could not be found in the restored object: (root).optimizer._variables.8\n",
      "WARNING:tensorflow:Value in checkpoint could not be found in the restored object: (root).optimizer._variables.9\n",
      "WARNING:tensorflow:Value in checkpoint could not be found in the restored object: (root).optimizer._variables.10\n"
     ]
    }
   ],
   "source": [
    "from keras_tuner.tuners import RandomSearch\n",
    "from keras_tuner.engine.hyperparameters import HyperParameters\n",
    "\n",
    "# Model fonksiyonunu tanımlayın\n",
    "def build_model(hp):\n",
    "    model = tf.keras.Sequential([\n",
    "        tf.keras.layers.LSTM(units=hp.Int('units', min_value=32, max_value=128, step=32),\n",
    "                             input_shape=(1, 1)),\n",
    "        tf.keras.layers.Dense(1)\n",
    "    ])\n",
    "    \n",
    "    model.compile(optimizer='adam', loss='mse')\n",
    "    return model\n",
    "\n",
    "# Keras Tuner'ı yapılandırın\n",
    "tuner = RandomSearch(\n",
    "    build_model,\n",
    "    objective='val_loss',\n",
    "    max_trials=5,  # İstediğiniz sayıda deneme sayısını belirtin\n",
    "    directory='keras_tuner_dir',  # Tuner tarafından oluşturulan modellerin ve günlüklerin kaydedileceği dizin\n",
    "    project_name='timeseries_lstm')\n",
    "\n",
    "# Modeli araştırın\n",
    "tuner.search(input_data, y_true, epochs=10, validation_split=0.2)  # Örnek bir eğitim yapısı\n",
    "\n",
    "# En iyi modeli alın\n",
    "best_model = tuner.get_best_models(num_models=1)[0]\n"
   ]
  },
  {
   "cell_type": "code",
   "execution_count": 25,
   "id": "0cb32598",
   "metadata": {},
   "outputs": [
    {
     "name": "stdout",
     "output_type": "stream",
     "text": [
      "3/3 [==============================] - 0s 2ms/step\n"
     ]
    }
   ],
   "source": [
    "improved_predictions = best_model.predict(input_data).flatten()\n",
    "\n",
    "# PySpark DataFrame'e tahminleri ekleyin\n",
    "all_dates = all_dates.withColumn(\"improved_prediction\", F.array([F.lit(float(val)) for val in improved_predictions]))"
   ]
  },
  {
   "cell_type": "code",
   "execution_count": 26,
   "id": "967fe713",
   "metadata": {
    "scrolled": true
   },
   "outputs": [
    {
     "name": "stderr",
     "output_type": "stream",
     "text": [
      "/usr/lib/python3/dist-packages/scipy/__init__.py:146: UserWarning: A NumPy version >=1.17.3 and <1.25.0 is required for this version of SciPy (detected version 1.26.0\n",
      "  warnings.warn(f\"A NumPy version >={np_minversion} and <{np_maxversion}\"\n",
      "/usr/lib/python3/dist-packages/scipy/__init__.py:146: UserWarning: A NumPy version >=1.17.3 and <1.25.0 is required for this version of SciPy (detected version 1.26.0\n",
      "  warnings.warn(f\"A NumPy version >={np_minversion} and <{np_maxversion}\"\n",
      "                                                                                \r"
     ]
    },
    {
     "name": "stdout",
     "output_type": "stream",
     "text": [
      "+----------+-------------------+--------------------+--------------------+--------------------+\n",
      "|      date|          sentiment|            features|          prediction| improved_prediction|\n",
      "+----------+-------------------+--------------------+--------------------+--------------------+\n",
      "|2009-04-07|0.09831896075533297|[0.09831896075533...|[0.05299211293458...|[0.01480260863900...|\n",
      "|2009-04-08|                0.0|               [0.0]|[0.05299211293458...|[0.01480260863900...|\n",
      "|2009-04-09|                0.0|               [0.0]|[0.05299211293458...|[0.01480260863900...|\n",
      "|2009-04-10|                0.0|               [0.0]|[0.05299211293458...|[0.01480260863900...|\n",
      "|2009-04-11|                0.0|               [0.0]|[0.05299211293458...|[0.01480260863900...|\n",
      "|2009-04-12|                0.0|               [0.0]|[0.05299211293458...|[0.01480260863900...|\n",
      "|2009-04-13|                0.0|               [0.0]|[0.05299211293458...|[0.01480260863900...|\n",
      "|2009-04-14|                0.0|               [0.0]|[0.05299211293458...|[0.01480260863900...|\n",
      "|2009-04-15|                0.0|               [0.0]|[0.05299211293458...|[0.01480260863900...|\n",
      "|2009-04-16|                0.0|               [0.0]|[0.05299211293458...|[0.01480260863900...|\n",
      "|2009-04-17|                0.0|               [0.0]|[0.05299211293458...|[0.01480260863900...|\n",
      "|2009-04-18|0.11308046646558229|[0.11308046646558...|[0.05299211293458...|[0.01480260863900...|\n",
      "|2009-04-19| 0.1120155575144859|[0.1120155575144859]|[0.05299211293458...|[0.01480260863900...|\n",
      "|2009-04-20|0.10982939870772856|[0.10982939870772...|[0.05299211293458...|[0.01480260863900...|\n",
      "|2009-04-21| 0.1109461231543173|[0.1109461231543173]|[0.05299211293458...|[0.01480260863900...|\n",
      "|2009-04-22|                0.0|               [0.0]|[0.05299211293458...|[0.01480260863900...|\n",
      "|2009-04-23|                0.0|               [0.0]|[0.05299211293458...|[0.01480260863900...|\n",
      "|2009-04-24|                0.0|               [0.0]|[0.05299211293458...|[0.01480260863900...|\n",
      "|2009-04-25|                0.0|               [0.0]|[0.05299211293458...|[0.01480260863900...|\n",
      "|2009-04-26|                0.0|               [0.0]|[0.05299211293458...|[0.01480260863900...|\n",
      "+----------+-------------------+--------------------+--------------------+--------------------+\n",
      "only showing top 20 rows\n",
      "\n"
     ]
    }
   ],
   "source": [
    "# Sonuçları görselleştirin veya başka bir şekilde değerlendirin\n",
    "all_dates.show()"
   ]
  },
  {
   "cell_type": "code",
   "execution_count": null,
   "id": "70aeb072",
   "metadata": {},
   "outputs": [],
   "source": [
    "vector_assembler = VectorAssembler(inputCols=[\"sentiment\"], outputCol=\"features\")\n",
    "future_dates = vector_assembler.transform(future_dates)\n",
    "\n",
    "# Veriyi TensorFlow için uygun formata dönüştürün\n",
    "data_array = np.array(all_dates.select(\"features\").collect())\n",
    "input_data = tf.convert_to_tensor(data_array, dtype=tf.float32)\n",
    "\n",
    "# TensorFlow LSTM modeli oluşturun\n",
    "model = tf.keras.Sequential([\n",
    "    tf.keras.layers.LSTM(50, input_shape=(1, 1)),\n",
    "    tf.keras.layers.Dense(1)\n",
    "])"
   ]
  },
  {
   "cell_type": "code",
   "execution_count": 21,
   "id": "5bdded06",
   "metadata": {},
   "outputs": [
    {
     "name": "stderr",
     "output_type": "stream",
     "text": [
      "2023-11-14 18:49:33,965 WARN window.WindowExec: No Partition Defined for Window operation! Moving all data to a single partition, this can cause serious performance degradation.\n",
      "2023-11-14 18:49:33,968 WARN window.WindowExec: No Partition Defined for Window operation! Moving all data to a single partition, this can cause serious performance degradation.\n",
      "/usr/lib/python3/dist-packages/scipy/__init__.py:146: UserWarning: A NumPy version >=1.17.3 and <1.25.0 is required for this version of SciPy (detected version 1.26.0\n",
      "  warnings.warn(f\"A NumPy version >={np_minversion} and <{np_maxversion}\"\n",
      "/usr/lib/python3/dist-packages/scipy/__init__.py:146: UserWarning: A NumPy version >=1.17.3 and <1.25.0 is required for this version of SciPy (detected version 1.26.0\n",
      "  warnings.warn(f\"A NumPy version >={np_minversion} and <{np_maxversion}\"\n",
      "2023-11-14 18:50:43,658 WARN window.WindowExec: No Partition Defined for Window operation! Moving all data to a single partition, this can cause serious performance degradation.\n",
      "2023-11-14 18:50:43,817 WARN window.WindowExec: No Partition Defined for Window operation! Moving all data to a single partition, this can cause serious performance degradation.\n",
      "2023-11-14 18:50:44,622 WARN window.WindowExec: No Partition Defined for Window operation! Moving all data to a single partition, this can cause serious performance degradation.\n",
      "2023-11-14 18:50:44,726 WARN window.WindowExec: No Partition Defined for Window operation! Moving all data to a single partition, this can cause serious performance degradation.\n"
     ]
    },
    {
     "name": "stdout",
     "output_type": "stream",
     "text": [
      "+----------+-------------------+-------------------+\n",
      "|      date|          sentiment|   sentiment_filled|\n",
      "+----------+-------------------+-------------------+\n",
      "|2009-04-07|0.09831896075533297|0.09831896075533297|\n",
      "|2009-04-08|                0.0|0.09831896075533297|\n",
      "|2009-04-09|                0.0|0.09831896075533297|\n",
      "|2009-04-10|                0.0|0.09831896075533297|\n",
      "|2009-04-11|                0.0|0.09831896075533297|\n",
      "+----------+-------------------+-------------------+\n",
      "only showing top 5 rows\n",
      "\n"
     ]
    }
   ],
   "source": [
    "from pyspark.sql.window import Window\n",
    "from pyspark.sql import functions as F\n",
    "from pyspark.sql.types import DoubleType\n",
    "\n",
    "# Tarih sırasına göre sıralayalım\n",
    "df_2 = all_dates.orderBy('date')\n",
    "windowSpec = Window().orderBy('date').rowsBetween(Window.unboundedPreceding, 0)\n",
    "df_filled = df_2.withColumn(\"sentiment_filled\", F.expr(\"IF(sentiment == 0, NULL, sentiment)\"))\n",
    "df_filled = df_filled.withColumn(\"sentiment_filled\", F.expr(\"last(sentiment_filled, true)\").over(windowSpec))\n",
    "\n",
    "\n",
    "# İlk beş gözlemi gösterelim\n",
    "df_filled.select('date', 'sentiment', 'sentiment_filled').show(5)\n"
   ]
  },
  {
   "cell_type": "code",
   "execution_count": 222,
   "id": "70fbcd72",
   "metadata": {
    "scrolled": true
   },
   "outputs": [
    {
     "name": "stderr",
     "output_type": "stream",
     "text": [
      "2023-11-14 18:24:02,956 WARN window.WindowExec: No Partition Defined for Window operation! Moving all data to a single partition, this can cause serious performance degradation.\n",
      "2023-11-14 18:24:02,958 WARN window.WindowExec: No Partition Defined for Window operation! Moving all data to a single partition, this can cause serious performance degradation.\n",
      "2023-11-14 18:25:45,855 WARN window.WindowExec: No Partition Defined for Window operation! Moving all data to a single partition, this can cause serious performance degradation.\n",
      "                                                                                \r"
     ]
    },
    {
     "name": "stdout",
     "output_type": "stream",
     "text": [
      "+----------+-------------------+-------------------+\n",
      "|      date|          sentiment|   sentiment_filled|\n",
      "+----------+-------------------+-------------------+\n",
      "|2009-04-07|0.09831896075533297|0.09831896075533297|\n",
      "|2009-04-08|                0.0|0.09831896075533297|\n",
      "|2009-04-09|                0.0|0.09831896075533297|\n",
      "|2009-04-10|                0.0|0.09831896075533297|\n",
      "|2009-04-11|                0.0|0.09831896075533297|\n",
      "|2009-04-12|                0.0|0.09831896075533297|\n",
      "|2009-04-13|                0.0|0.09831896075533297|\n",
      "|2009-04-14|                0.0|0.09831896075533297|\n",
      "|2009-04-15|                0.0|0.09831896075533297|\n",
      "|2009-04-16|                0.0|0.09831896075533297|\n",
      "|2009-04-17|                0.0|0.09831896075533297|\n",
      "|2009-04-18|0.11308046646558229|0.11308046646558229|\n",
      "|2009-04-19| 0.1120155575144859| 0.1120155575144859|\n",
      "|2009-04-20|0.10982939870772856|0.10982939870772856|\n",
      "|2009-04-21| 0.1109461231543173| 0.1109461231543173|\n",
      "|2009-04-22|                0.0| 0.1109461231543173|\n",
      "|2009-04-23|                0.0| 0.1109461231543173|\n",
      "|2009-04-24|                0.0| 0.1109461231543173|\n",
      "|2009-04-25|                0.0| 0.1109461231543173|\n",
      "|2009-04-26|                0.0| 0.1109461231543173|\n",
      "+----------+-------------------+-------------------+\n",
      "only showing top 20 rows\n",
      "\n"
     ]
    },
    {
     "name": "stderr",
     "output_type": "stream",
     "text": [
      "2023-11-14 18:25:46,484 WARN window.WindowExec: No Partition Defined for Window operation! Moving all data to a single partition, this can cause serious performance degradation.\n",
      "2023-11-14 18:25:46,507 WARN window.WindowExec: No Partition Defined for Window operation! Moving all data to a single partition, this can cause serious performance degradation.\n"
     ]
    }
   ],
   "source": [
    "df_filled.orderBy('date').show()"
   ]
  },
  {
   "cell_type": "code",
   "execution_count": 22,
   "id": "73952d95",
   "metadata": {
    "scrolled": true
   },
   "outputs": [
    {
     "name": "stderr",
     "output_type": "stream",
     "text": [
      "                                                                                \r"
     ]
    }
   ],
   "source": [
    "from tensorflow.keras.preprocessing.text import Tokenizer\n",
    "from tensorflow.keras.preprocessing.sequence import pad_sequences\n",
    "\n",
    "# Temizlenmiş tweet verilerini alın\n",
    "tweets = df.select('cleaned_text').rdd.flatMap(lambda x: x).collect()\n",
    "\n",
    "# Tokenizer'ı oluşturun\n",
    "tokenizer = Tokenizer()\n",
    "tokenizer.fit_on_texts(tweets)\n",
    "\n",
    "# Kelimeleri sayısal formata dönüştürün\n",
    "sequences = tokenizer.texts_to_sequences(tweets)\n",
    "\n",
    "# Tüm dizileri aynı uzunluğa getirin (dizi dolgusu)\n",
    "padded_sequences = pad_sequences(sequences)\n"
   ]
  },
  {
   "cell_type": "code",
   "execution_count": 23,
   "id": "a804a58d",
   "metadata": {},
   "outputs": [
    {
     "name": "stderr",
     "output_type": "stream",
     "text": [
      "                                                                                \r"
     ]
    }
   ],
   "source": [
    "from sklearn.model_selection import train_test_split\n",
    "import numpy as np\n",
    "\n",
    "# labels = df.select('sentiment').rdd.flatMap(lambda x: x).collect()\n",
    "labels = np.array(df.select('sentiment_label').rdd.flatMap(lambda x: x).collect())\n",
    "\n",
    "# Ardından eğitim ve test setlerini oluşturabilirsiniz\n",
    "X_train, X_test, y_train, y_test = train_test_split(padded_sequences, labels, test_size=0.2, random_state=42)\n"
   ]
  },
  {
   "cell_type": "code",
   "execution_count": 24,
   "id": "aaec3f2a",
   "metadata": {},
   "outputs": [
    {
     "name": "stderr",
     "output_type": "stream",
     "text": [
      "2023-11-14 18:55:50.266232: W tensorflow/tsl/framework/cpu_allocator_impl.cc:83] Allocation of 83776000 exceeds 10% of free system memory.\n",
      "2023-11-14 18:55:50.356755: W tensorflow/tsl/framework/cpu_allocator_impl.cc:83] Allocation of 83776000 exceeds 10% of free system memory.\n",
      "2023-11-14 18:55:50.406774: W tensorflow/tsl/framework/cpu_allocator_impl.cc:83] Allocation of 83776000 exceeds 10% of free system memory.\n",
      "2023-11-14 18:55:50.753849: W tensorflow/tsl/framework/cpu_allocator_impl.cc:83] Allocation of 204800000 exceeds 10% of free system memory.\n",
      "2023-11-14 18:55:50.884420: W tensorflow/tsl/framework/cpu_allocator_impl.cc:83] Allocation of 10240000 exceeds 10% of free system memory.\n"
     ]
    },
    {
     "name": "stdout",
     "output_type": "stream",
     "text": [
      "20000/20000 [==============================] - 2694s 135ms/step - loss: -153.2965 - accuracy: 0.6957 - val_loss: -322.8023 - val_accuracy: 0.6852\n"
     ]
    },
    {
     "data": {
      "text/plain": [
       "<keras.src.callbacks.History at 0xfffed41289a0>"
      ]
     },
     "execution_count": 24,
     "metadata": {},
     "output_type": "execute_result"
    }
   ],
   "source": [
    "from tensorflow.keras.models import Sequential\n",
    "from tensorflow.keras.layers import Embedding, LSTM, Dense\n",
    "\n",
    "# Modeli oluştur\n",
    "model = Sequential()\n",
    "model.add(Embedding(input_dim=len(tokenizer.word_index) + 1, output_dim=50, input_length=padded_sequences.shape[1]))\n",
    "model.add(LSTM(100))\n",
    "model.add(Dense(1, activation='sigmoid'))\n",
    "\n",
    "# Modeli derle\n",
    "model.compile(optimizer='adam', loss='binary_crossentropy', metrics=['accuracy'])\n",
    "\n",
    "# Modeli eğit\n",
    "model.fit(X_train, y_train, validation_data=(X_test, y_test), epochs=1, batch_size=64)\n"
   ]
  },
  {
   "cell_type": "code",
   "execution_count": null,
   "id": "fd6d682b",
   "metadata": {},
   "outputs": [],
   "source": []
  },
  {
   "cell_type": "code",
   "execution_count": null,
   "id": "b36946b1",
   "metadata": {},
   "outputs": [],
   "source": [
    "import plotly.express as px\n",
    "\n",
    "# Weekly predictions\n",
    "fig_week = px.line(predictions_week.toPandas(), x='date', y='prediction', title='Weekly Predictions')\n",
    "\n",
    "# Monthly predictions\n",
    "fig_month = px.line(predictions_month.toPandas(), x='date', y='prediction', title='Monthly Predictions')\n",
    "\n",
    "# 3 Months predictions\n",
    "fig_3months = px.line(predictions_3months.toPandas(), x='date', y='prediction', title='3-Month Predictions')\n",
    "\n",
    "# Dashboard\n",
    "import dash\n",
    "from dash import dcc, html\n",
    "\n",
    "app = dash.Dash(__name__)\n",
    "\n",
    "app.layout = html.Div(children=[\n",
    "    html.H1(children='Sentiment Analysis Dashboard'),\n",
    "    \n",
    "    html.Div(children='''\n",
    "        Weekly Predictions\n",
    "    '''),\n",
    "\n",
    "    dcc.Graph(\n",
    "        id='fig_week',\n",
    "        figure=fig_week\n",
    "    ),\n",
    "\n",
    "    html.Div(children='''\n",
    "        Monthly Predictions\n",
    "    '''),\n",
    "\n",
    "    dcc.Graph(\n",
    "        id='fig_month',\n",
    "        figure=fig_month\n",
    "    ),\n",
    "\n",
    "    html.Div(children='''\n",
    "        3-Month Predictions\n",
    "    '''),\n",
    "\n",
    "    dcc.Graph(\n",
    "        id='fig_3months',\n",
    "        figure=fig_3months\n",
    "    )\n",
    "])\n",
    "\n",
    "if __name__ == '__main__':\n",
    "    app.run_server(debug=True)\n"
   ]
  }
 ],
 "metadata": {
  "kernelspec": {
   "display_name": "Python 3 (ipykernel)",
   "language": "python",
   "name": "python3"
  },
  "language_info": {
   "codemirror_mode": {
    "name": "ipython",
    "version": 3
   },
   "file_extension": ".py",
   "mimetype": "text/x-python",
   "name": "python",
   "nbconvert_exporter": "python",
   "pygments_lexer": "ipython3",
   "version": "3.10.12"
  }
 },
 "nbformat": 4,
 "nbformat_minor": 5
}
