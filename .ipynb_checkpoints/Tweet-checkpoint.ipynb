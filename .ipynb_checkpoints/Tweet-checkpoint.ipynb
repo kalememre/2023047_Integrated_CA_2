{
 "cells": [
  {
   "cell_type": "code",
   "execution_count": 19,
   "id": "7dcc2cff",
   "metadata": {},
   "outputs": [],
   "source": [
    "from pyspark.sql import SparkSession\n",
    "\n",
    "spark = SparkSession \\\n",
    "    .builder \\\n",
    "    .appName(\"myApp\") \\\n",
    "    .getOrCreate()"
   ]
  },
  {
   "cell_type": "code",
   "execution_count": 20,
   "id": "1e19e9ff",
   "metadata": {},
   "outputs": [
    {
     "name": "stderr",
     "output_type": "stream",
     "text": [
      "                                                                                \r"
     ]
    }
   ],
   "source": [
    "# Load the ProjectTweets.csv into hadoop in the named folder 'user1'\n",
    "df = spark.read.csv('/user1/ProjectTweets.csv', header=False, inferSchema=True)"
   ]
  },
  {
   "cell_type": "code",
   "execution_count": 21,
   "id": "a288484b",
   "metadata": {
    "scrolled": false
   },
   "outputs": [
    {
     "name": "stdout",
     "output_type": "stream",
     "text": [
      "root\n",
      " |-- _c0: integer (nullable = true)\n",
      " |-- _c1: long (nullable = true)\n",
      " |-- _c2: string (nullable = true)\n",
      " |-- _c3: string (nullable = true)\n",
      " |-- _c4: string (nullable = true)\n",
      " |-- _c5: string (nullable = true)\n",
      "\n"
     ]
    }
   ],
   "source": [
    "df.printSchema()"
   ]
  },
  {
   "cell_type": "code",
   "execution_count": 22,
   "id": "ba37604a",
   "metadata": {},
   "outputs": [
    {
     "name": "stdout",
     "output_type": "stream",
     "text": [
      "+---+----------+--------------------+--------+---------------+--------------------+\n",
      "|_c0|       _c1|                 _c2|     _c3|            _c4|                 _c5|\n",
      "+---+----------+--------------------+--------+---------------+--------------------+\n",
      "|  0|1467810369|Mon Apr 06 22:19:...|NO_QUERY|_TheSpecialOne_|@switchfoot http:...|\n",
      "|  1|1467810672|Mon Apr 06 22:19:...|NO_QUERY|  scotthamilton|is upset that he ...|\n",
      "|  2|1467810917|Mon Apr 06 22:19:...|NO_QUERY|       mattycus|@Kenichan I dived...|\n",
      "|  3|1467811184|Mon Apr 06 22:19:...|NO_QUERY|        ElleCTF|my whole body fee...|\n",
      "|  4|1467811193|Mon Apr 06 22:19:...|NO_QUERY|         Karoli|@nationwideclass ...|\n",
      "+---+----------+--------------------+--------+---------------+--------------------+\n",
      "only showing top 5 rows\n",
      "\n"
     ]
    }
   ],
   "source": [
    "df.show(5)"
   ]
  },
  {
   "cell_type": "code",
   "execution_count": 23,
   "id": "6220778d",
   "metadata": {},
   "outputs": [],
   "source": [
    "# Drop the _c1 column unused\n",
    "df = df.drop('_c1')"
   ]
  },
  {
   "cell_type": "code",
   "execution_count": 24,
   "id": "5c1aae3b",
   "metadata": {},
   "outputs": [],
   "source": [
    "# Named the columns of df\n",
    "df = df.withColumnRenamed('_c0', 'id') \\\n",
    "       .withColumnRenamed('_c2', 'date') \\\n",
    "       .withColumnRenamed('_c3', 'flag') \\\n",
    "       .withColumnRenamed('_c4', 'user') \\\n",
    "       .withColumnRenamed('_c5', 'text')"
   ]
  },
  {
   "cell_type": "code",
   "execution_count": 25,
   "id": "83ac87bf",
   "metadata": {},
   "outputs": [
    {
     "name": "stdout",
     "output_type": "stream",
     "text": [
      "root\n",
      " |-- id: integer (nullable = true)\n",
      " |-- date: string (nullable = true)\n",
      " |-- flag: string (nullable = true)\n",
      " |-- user: string (nullable = true)\n",
      " |-- text: string (nullable = true)\n",
      "\n"
     ]
    }
   ],
   "source": [
    "# Display the structure of schema\n",
    "df.printSchema()"
   ]
  },
  {
   "cell_type": "code",
   "execution_count": 26,
   "id": "d09e31e7",
   "metadata": {},
   "outputs": [
    {
     "name": "stdout",
     "output_type": "stream",
     "text": [
      "+---+--------------------+--------+---------------+--------------------+\n",
      "| id|                date|    flag|           user|                text|\n",
      "+---+--------------------+--------+---------------+--------------------+\n",
      "|  0|Mon Apr 06 22:19:...|NO_QUERY|_TheSpecialOne_|@switchfoot http:...|\n",
      "|  1|Mon Apr 06 22:19:...|NO_QUERY|  scotthamilton|is upset that he ...|\n",
      "|  2|Mon Apr 06 22:19:...|NO_QUERY|       mattycus|@Kenichan I dived...|\n",
      "|  3|Mon Apr 06 22:19:...|NO_QUERY|        ElleCTF|my whole body fee...|\n",
      "|  4|Mon Apr 06 22:19:...|NO_QUERY|         Karoli|@nationwideclass ...|\n",
      "+---+--------------------+--------+---------------+--------------------+\n",
      "only showing top 5 rows\n",
      "\n"
     ]
    }
   ],
   "source": [
    "# Display the first 5 rows of the data\n",
    "df.show(5)"
   ]
  },
  {
   "cell_type": "code",
   "execution_count": 27,
   "id": "40e0c3d7",
   "metadata": {},
   "outputs": [
    {
     "name": "stderr",
     "output_type": "stream",
     "text": [
      "                                                                                \r"
     ]
    }
   ],
   "source": [
    "df.write.format(\"mongodb\") \\\n",
    "    .option(\"uri\", \"mongodb://127.0.0.1:27001/\") \\\n",
    "    .option(\"database\", \"tweet_mongo\") \\\n",
    "    .option(\"collection\", \"tweet_collection\") \\\n",
    "    .mode(\"append\").save()"
   ]
  },
  {
   "cell_type": "code",
   "execution_count": 28,
   "id": "c6098c48",
   "metadata": {},
   "outputs": [],
   "source": [
    "# MySQL JDBC connection\n",
    "jdbc_url = \"jdbc:mysql://127.0.0.1:3306/tweet_mysql\"\n",
    "\n",
    "# MySQL user and pass\n",
    "properties = {\n",
    "    \"user\": \"root\",\n",
    "    \"password\": \"kalem\",\n",
    "    \"driver\": \"com.mysql.cj.jdbc.Driver\"\n",
    "}"
   ]
  },
  {
   "cell_type": "code",
   "execution_count": 29,
   "id": "eb87ba25",
   "metadata": {},
   "outputs": [
    {
     "name": "stderr",
     "output_type": "stream",
     "text": [
      "                                                                                \r"
     ]
    }
   ],
   "source": [
    "df.write.jdbc(url=jdbc_url, table=\"tweets\", mode=\"overwrite\", properties=properties)"
   ]
  },
  {
   "cell_type": "code",
   "execution_count": 30,
   "id": "2b7219be",
   "metadata": {},
   "outputs": [
    {
     "name": "stdout",
     "output_type": "stream",
     "text": [
      "Shape of dataset: (1600000, 5)\n"
     ]
    },
    {
     "name": "stderr",
     "output_type": "stream",
     "text": [
      "\r",
      "[Stage 12:>                                                         (0 + 2) / 2]\r",
      "\r",
      "                                                                                \r"
     ]
    }
   ],
   "source": [
    "# print of data shape\n",
    "print('Shape of dataset:',(df.count(),len(df.columns)))"
   ]
  },
  {
   "cell_type": "code",
   "execution_count": 31,
   "id": "fd643d08",
   "metadata": {
    "scrolled": true
   },
   "outputs": [
    {
     "name": "stderr",
     "output_type": "stream",
     "text": [
      "[Stage 15:=============================>                            (1 + 1) / 2]\r"
     ]
    },
    {
     "name": "stdout",
     "output_type": "stream",
     "text": [
      "+-------+------------------+--------------------+--------+-------------------+--------------------+\n",
      "|summary|                id|                date|    flag|               user|                text|\n",
      "+-------+------------------+--------------------+--------+-------------------+--------------------+\n",
      "|  count|           1600000|             1600000| 1600000|            1600000|             1600000|\n",
      "|   mean|          799999.5|                null|    null|4.325887521835714E9|                null|\n",
      "| stddev|461880.35968924535|                null|    null|5.16273321845489E10|                null|\n",
      "|    min|                 0|Fri Apr 17 20:30:...|NO_QUERY|       000catnap000|                 ...|\n",
      "|    max|           1599999|Wed May 27 07:27:...|NO_QUERY|         zzzzeus111|ï¿½ï¿½ï¿½ï¿½ï¿½ß§...|\n",
      "+-------+------------------+--------------------+--------+-------------------+--------------------+\n",
      "\n"
     ]
    },
    {
     "name": "stderr",
     "output_type": "stream",
     "text": [
      "\r",
      "                                                                                \r"
     ]
    }
   ],
   "source": [
    "# Display the summary statistics of the data\n",
    "df.describe().show()"
   ]
  },
  {
   "cell_type": "code",
   "execution_count": 39,
   "id": "ba25b25c",
   "metadata": {
    "scrolled": false
   },
   "outputs": [
    {
     "name": "stdout",
     "output_type": "stream",
     "text": [
      "/usr/bin/java  -classpath /home/hduser/ycsb-0.17.0/conf:/home/hduser/ycsb-0.17.0/lib/HdrHistogram-2.1.4.jar:/home/hduser/ycsb-0.17.0/lib/core-0.17.0.jar:/home/hduser/ycsb-0.17.0/lib/htrace-core4-4.1.0-incubating.jar:/home/hduser/ycsb-0.17.0/lib/jackson-core-asl-1.9.4.jar:/home/hduser/ycsb-0.17.0/lib/jackson-mapper-asl-1.9.4.jar:/home/hduser/ycsb-0.17.0/jdbc-binding/conf:/home/hduser/ycsb-0.17.0/jdbc-binding/lib/commons-collections-3.2.1.jar:/home/hduser/ycsb-0.17.0/jdbc-binding/lib/commons-lang-2.4.jar:/home/hduser/ycsb-0.17.0/jdbc-binding/lib/commons-pool-1.5.4.jar:/home/hduser/ycsb-0.17.0/jdbc-binding/lib/geronimo-jms_1.1_spec-1.1.1.jar:/home/hduser/ycsb-0.17.0/jdbc-binding/lib/geronimo-jta_1.1_spec-1.1.1.jar:/home/hduser/ycsb-0.17.0/jdbc-binding/lib/jdbc-binding-0.17.0.jar:/home/hduser/ycsb-0.17.0/jdbc-binding/lib/mysql-connector-j-8.0.33.jar:/home/hduser/ycsb-0.17.0/jdbc-binding/lib/openjpa-jdbc-2.1.1.jar:/home/hduser/ycsb-0.17.0/jdbc-binding/lib/openjpa-kernel-2.1.1.jar:/home/hduser/ycsb-0.17.0/jdbc-binding/lib/openjpa-lib-2.1.1.jar:/home/hduser/ycsb-0.17.0/jdbc-binding/lib/serp-1.13.1.jar site.ycsb.Client -t -db site.ycsb.db.JdbcDBClient -P /home/hduser/ycsb-0.17.0/workloads/workloada -p db.url=jdbc:mysql://localhost:3306/tweet_mysql -p db.user=root -p db.passwd=kalem -p db.driver=com.mysql.cj.jdbc.Driver\n",
      "Command line: -t -db site.ycsb.db.JdbcDBClient -P /home/hduser/ycsb-0.17.0/workloads/workloada -p db.url=jdbc:mysql://localhost:3306/tweet_mysql -p db.user=root -p db.passwd=kalem -p db.driver=com.mysql.cj.jdbc.Driver\n",
      "YCSB Client 0.17.0\n",
      "\n",
      "Loading workload...\n",
      "Starting test.\n",
      "Adding shard node URL: jdbc:mysql://localhost:3306/tweet_mysql\n",
      "Using shards: 1, batchSize:-1, fetchSize: -1\n",
      "DBWrapper: report latency for each error is false and specific error codes to track for latency are: []\n",
      "[OVERALL], RunTime(ms), 709\n",
      "[OVERALL], Throughput(ops/sec), 1410.4372355430182\n",
      "[TOTAL_GCS_PS_Scavenge], Count, 2\n",
      "[TOTAL_GC_TIME_PS_Scavenge], Time(ms), 6\n",
      "[TOTAL_GC_TIME_%_PS_Scavenge], Time(%), 0.846262341325811\n",
      "[TOTAL_GCS_PS_MarkSweep], Count, 0\n",
      "[TOTAL_GC_TIME_PS_MarkSweep], Time(ms), 0\n",
      "[TOTAL_GC_TIME_%_PS_MarkSweep], Time(%), 0.0\n",
      "[TOTAL_GCs], Count, 2\n",
      "[TOTAL_GC_TIME], Time(ms), 6\n",
      "[TOTAL_GC_TIME_%], Time(%), 0.846262341325811\n",
      "[READ], Operations, 0\n",
      "[READ], AverageLatency(us), NaN\n",
      "[READ], MinLatency(us), 9223372036854775807\n",
      "[READ], MaxLatency(us), 0\n",
      "[READ], 95thPercentileLatency(us), 0\n",
      "[READ], 99thPercentileLatency(us), 0\n",
      "[READ], Return=NOT_FOUND, 534\n",
      "[UPDATE-FAILED], Operations, 466\n",
      "[UPDATE-FAILED], AverageLatency(us), 171.47210300429185\n",
      "[UPDATE-FAILED], MinLatency(us), 51\n",
      "[UPDATE-FAILED], MaxLatency(us), 5011\n",
      "[UPDATE-FAILED], 95thPercentileLatency(us), 363\n",
      "[UPDATE-FAILED], 99thPercentileLatency(us), 2044\n",
      "[CLEANUP], Operations, 1\n",
      "[CLEANUP], AverageLatency(us), 1205.0\n",
      "[CLEANUP], MinLatency(us), 1205\n",
      "[CLEANUP], MaxLatency(us), 1205\n",
      "[CLEANUP], 95thPercentileLatency(us), 1205\n",
      "[CLEANUP], 99thPercentileLatency(us), 1205\n",
      "[READ-FAILED], Operations, 534\n",
      "[READ-FAILED], AverageLatency(us), 276.7041198501873\n",
      "[READ-FAILED], MinLatency(us), 64\n",
      "[READ-FAILED], MaxLatency(us), 29743\n",
      "[READ-FAILED], 95thPercentileLatency(us), 523\n",
      "[READ-FAILED], 99thPercentileLatency(us), 2667\n",
      "[UPDATE], Operations, 0\n",
      "[UPDATE], AverageLatency(us), NaN\n",
      "[UPDATE], MinLatency(us), 9223372036854775807\n",
      "[UPDATE], MaxLatency(us), 0\n",
      "[UPDATE], 95thPercentileLatency(us), 0\n",
      "[UPDATE], 99thPercentileLatency(us), 0\n",
      "[UPDATE], Return=UNEXPECTED_STATE, 466\n"
     ]
    }
   ],
   "source": [
    "\n",
    "!/home/hduser/ycsb-0.17.0/bin/ycsb.sh run jdbc -P /home/hduser/ycsb-0.17.0/workloads/workloada -p db.url=jdbc:mysql://localhost:3306/tweet_mysql -p db.user=root -p db.passwd=kalem -p db.driver=com.mysql.cj.jdbc.Driver"
   ]
  },
  {
   "cell_type": "code",
   "execution_count": null,
   "id": "beea3a35",
   "metadata": {},
   "outputs": [],
   "source": [
    "bin/ycsb.sh run mongodb -P workloads/workloada -p mongodb.url=mongodb://localhost:27017 -p mongodb.database=mydatabase -p mongodb.user=myuser -p mongodb.password=mypassword\n"
   ]
  }
 ],
 "metadata": {
  "kernelspec": {
   "display_name": "Python 3 (ipykernel)",
   "language": "python",
   "name": "python3"
  },
  "language_info": {
   "codemirror_mode": {
    "name": "ipython",
    "version": 3
   },
   "file_extension": ".py",
   "mimetype": "text/x-python",
   "name": "python",
   "nbconvert_exporter": "python",
   "pygments_lexer": "ipython3",
   "version": "3.10.12"
  }
 },
 "nbformat": 4,
 "nbformat_minor": 5
}
